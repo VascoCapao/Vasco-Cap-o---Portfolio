{
 "cells": [
  {
   "cell_type": "markdown",
   "metadata": {},
   "source": [
    "# Synthetic User Message Generation for SmartBite\n",
    " \n",
    "This notebook includes the following sections:\n",
    "\n",
    "- [1. Import Libraries](#1-import-libraries)\n",
    "- [2. Define Models and Classes](#2-define-models-and-classes)\n",
    "- [3. Initialize LLM and Output Parser](#3-initialize-llm-and-output-parser)\n",
    "- [4. Create Prompt Templates](#4-create-prompt-templates)\n",
    "- [5. Generate Messages for Each Intention](#5-generate-messages-for-each-intention)\n",
    "- [6. Generate \"None\" Intention Messages](#6-generate-none-intention-messages)"
   ]
  },
  {
   "cell_type": "markdown",
   "metadata": {},
   "source": [
    "## 1. Import Libraries"
   ]
  },
  {
   "cell_type": "code",
   "execution_count": 1,
   "metadata": {},
   "outputs": [
    {
     "data": {
      "text/plain": [
       "True"
      ]
     },
     "execution_count": 1,
     "metadata": {},
     "output_type": "execute_result"
    }
   ],
   "source": [
    "from pydantic import BaseModel, Field\n",
    "from langchain.output_parsers import PydanticOutputParser\n",
    "from langchain_core.prompts import PromptTemplate\n",
    "from langchain_openai import ChatOpenAI\n",
    "from dotenv import load_dotenv\n",
    "from auxiliar import add_messages, sanitize_input\n",
    "\n",
    "# Load environment variables\n",
    "load_dotenv()"
   ]
  },
  {
   "cell_type": "markdown",
   "metadata": {},
   "source": [
    "## 2. Define Models and Classes"
   ]
  },
  {
   "cell_type": "code",
   "execution_count": 3,
   "metadata": {},
   "outputs": [],
   "source": [
    "# Define the synthetic user message model\n",
    "class SyntheticUserMessage(BaseModel):\n",
    "    message: str = Field(\n",
    "        ...,\n",
    "        title=\"Message\",\n",
    "        description=\"The user message to generate for the target task intention.\",\n",
    "    )\n",
    "\n",
    "# Define a model for a list of synthetic user messages\n",
    "class ListSyntheticUserMessages(BaseModel):\n",
    "    messages: list[SyntheticUserMessage] = Field(\n",
    "        ...,\n",
    "        title=\"Messages\",\n",
    "        description=\"The list of synthetic user messages to generate for the target task intention.\",\n",
    "    )"
   ]
  },
  {
   "cell_type": "markdown",
   "metadata": {},
   "source": [
    "## 3. Initialize LLM and Output Parser"
   ]
  },
  {
   "cell_type": "code",
   "execution_count": 2,
   "metadata": {},
   "outputs": [],
   "source": [
    "# Initialize the LLM\n",
    "llm = ChatOpenAI(temperature=0.0, model=\"gpt-4o-mini\")\n",
    "\n",
    "# Define an output parser for generating messages in the correct format\n",
    "output_parser = PydanticOutputParser(pydantic_object=ListSyntheticUserMessages)"
   ]
  },
  {
   "cell_type": "markdown",
   "metadata": {},
   "source": [
    "## 4. Create Prompt Templates"
   ]
  },
  {
   "cell_type": "code",
   "execution_count": 4,
   "metadata": {},
   "outputs": [],
   "source": [
    "# Prompt template\n",
    "system_prompt = \"\"\"\n",
    "You are responsible for generating synthetic user messages for SmartBite, a virtual assistant specializing in recipes and nutrition.\n",
    "\n",
    "User Intentions:\n",
    "{user_intentions}\n",
    "\n",
    "Task:\n",
    "Generate {k} unique and distinct messages specifically for the following target intention:\n",
    "\"{target_task_intention}\"\n",
    "\n",
    "Description:\n",
    "{target_task_intention_description}\n",
    "\n",
    "Guidelines:\n",
    "1. **Relevance:** Ensure each message strictly pertains to the target intention without deviating to other intents.\n",
    "2. **Length:** Each message should contain between 5 and 20 words.\n",
    "3. **Naturalness:** Messages should mimic natural user queries, avoiding jargon or overly formal language.\n",
    "4. **Clarity:** Avoid ambiguity; ensure messages are clear and direct.\n",
    "5. **Format Compliance:** Adhere strictly to the specified format to maintain consistency.\n",
    "\n",
    "Output Format:\n",
    "{format_instructions}\n",
    "\"\"\"\n",
    "\n",
    "\n",
    "# Create a prompt template using the system prompt\n",
    "prompt = PromptTemplate(\n",
    "    template=system_prompt,\n",
    "    input_variables=[\n",
    "        \"k\",\n",
    "        \"user_intentions\",\n",
    "        \"target_task_intention\",\n",
    "        \"target_task_intention_description\",\n",
    "    ],\n",
    "    partial_variables={\"format_instructions\": output_parser.get_format_instructions()},\n",
    ")"
   ]
  },
  {
   "cell_type": "markdown",
   "metadata": {},
   "source": [
    "## 5. Generate Messages for Each Intention"
   ]
  },
  {
   "cell_type": "code",
   "execution_count": null,
   "metadata": {},
   "outputs": [],
   "source": [
    "# Initialize synthetic data generation chain\n",
    "synthetic_data_chain = prompt | llm | output_parser"
   ]
  },
  {
   "cell_type": "code",
   "execution_count": 4,
   "metadata": {},
   "outputs": [],
   "source": [
    "# Define SmartBite intentions and descriptions\n",
    "SMARTBITE_INTENTIONS = [\n",
    "    \"personalized_recipe\",\n",
    "    \"ingredient_based_recipe\",\n",
    "    \"nutrition_info\",\n",
    "    \"step_by_step_instruction\",\n",
    "    \"nutrition_goal_sorting\",\n",
    "    \"recipe_difficulty_filter\",\n",
    "    \"ingredient_update\",\n",
    "    \"save_favorite_recipe\",\n",
    "    \"about_company\",\n",
    "]\n",
    "\n",
    "# Generate messages for each intention\n",
    "intentions_with_descriptions = {\n",
    "    \"personalized_recipe\": \"The user seeks recipe recommendations tailored to their individual preferences and dietary restrictions, such as vegan, gluten-free, or vegetarian options.\",    \n",
    "    \"ingredient_based_recipe\": \"The user wants to discover recipes they can prepare using specific ingredients they currently have, for example, chicken and rice.\",    \n",
    "    \"nutrition_info\": \"The user is looking for detailed nutritional information about a particular recipe or ingredient, including calories, protein, fat, and other nutrients.\",\n",
    "    \"step_by_step_instruction\": \"The user requires clear and detailed step-by-step instructions for preparing a recipe, encompassing both preparation and cooking procedures.\",    \n",
    "    \"nutrition_goal_sorting\": \"The user wishes to organize recipes based on their nutritional objectives, such as high protein content or low calorie.\",    \n",
    "    \"recipe_difficulty_filter\": \"The user aims to filter recipes according to their difficulty level, categorizing them as easy, simple, hard, difficult or medium.\",   \n",
    "    \"ingredient_update\": \"The user intends to add or remove ingredients from their inventory to keep it current and accurate.\",    \n",
    "    \"save_favorite_recipe\": \"The user wants to mark a recipe as a favorite.\",    \n",
    "    \"about_company\": \"Provide comprehensive information about SmartBite's services, core values, and community initiatives, focusing solely on aspects directly relevant to users.\",\n",
    "}"
   ]
  },
  {
   "cell_type": "code",
   "execution_count": 5,
   "metadata": {},
   "outputs": [],
   "source": [
    "file_name = \"synthetic_intentions.json\""
   ]
  },
  {
   "cell_type": "code",
   "execution_count": 7,
   "metadata": {},
   "outputs": [
    {
     "name": "stdout",
     "output_type": "stream",
     "text": [
      "Generating messages for intention: personalized_recipe\n",
      "Generating messages for intention: ingredient_based_recipe\n",
      "Generating messages for intention: nutrition_info\n",
      "Generating messages for intention: step_by_step_instruction\n",
      "Generating messages for intention: nutrition_goal_sorting\n",
      "Generating messages for intention: recipe_difficulty_filter\n",
      "Generating messages for intention: ingredient_update\n",
      "Generating messages for intention: save_favorite_recipe\n",
      "Generating messages for intention: about_company\n"
     ]
    }
   ],
   "source": [
    "# Generate synthetic messages for each intention\n",
    "for intention, description in intentions_with_descriptions.items():\n",
    "    print(f\"Generating messages for intention: {intention}\")\n",
    "    \n",
    "    response = synthetic_data_chain.invoke({\n",
    "        \"k\": 80,\n",
    "        \"user_intentions\": SMARTBITE_INTENTIONS,\n",
    "        \"target_task_intention\": intention,\n",
    "        \"target_task_intention_description\": sanitize_input(description),\n",
    "    })\n",
    "\n",
    "    synthetic_messages = [\n",
    "        {\"Intention\": intention, \"Message\": message.message}\n",
    "        for message in response.messages\n",
    "    ]\n",
    "    add_messages(synthetic_messages, file_name)"
   ]
  },
  {
   "cell_type": "markdown",
   "metadata": {},
   "source": [
    "## 6. Generate \"None\" Intention Messages"
   ]
  },
  {
   "cell_type": "code",
   "execution_count": 6,
   "metadata": {},
   "outputs": [],
   "source": [
    "# Generate \"None\" intention messages\n",
    "none_intention_prompt = \"\"\"\n",
    "You are tasked with generating synthetic user messages for casual small talk and unrelated conversations.\n",
    "\n",
    "The user intentions are:\n",
    "{user_intentions}\n",
    "\n",
    "Your task is to create {k} distinct messages that are entirely unrelated to the provided user intentions. \n",
    "These messages should reflect natural human interactions and typical small talk, covering general topics, personal interests, opinions, or everyday questions. \n",
    "The focus is to simulate conversational inputs that do not align with any specific task or structured intention.\n",
    "\n",
    "Examples of such small talk include:\n",
    "- Greetings: \"Hi, how are you?\" or \"Good morning!\"\n",
    "- Interests: \"Do you like football?\" or \"What’s your favorite movie?\"\n",
    "- Opinions: \"I think rainy days are cozy.\"\n",
    "- Random questions: \"What do you think about aliens?\" or \"Have you ever traveled to Italy?\"\n",
    "\n",
    "Guidelines:\n",
    "1. Avoid including content that overlaps with or hints at the provided user intentions.\n",
    "2. Create diverse messages spanning casual, lighthearted, or open-ended conversation topics.\n",
    "3. Each message should be concise, between 5 and 20 words.\n",
    "4. Ensure the messages are natural, varied, and reflective of typical human conversation.\n",
    "5. Include polite and friendly tone to simulate engaging dialogue.\n",
    "\n",
    "Message format:\n",
    "{format_instructions}\n",
    "\"\"\"\n",
    "\n",
    "\n",
    "none_intention_prompt = PromptTemplate(\n",
    "    template=none_intention_prompt,\n",
    "    input_variables=[\"k\", \"user_intentions\"],\n",
    "    partial_variables={\"format_instructions\": output_parser.get_format_instructions()},\n",
    ")\n",
    "\n",
    "synthetic_data_chain = none_intention_prompt | llm | output_parser"
   ]
  },
  {
   "cell_type": "code",
   "execution_count": 7,
   "metadata": {},
   "outputs": [],
   "source": [
    "response_none = synthetic_data_chain.invoke({\n",
    "    \"k\": 80,\n",
    "    \"user_intentions\": SMARTBITE_INTENTIONS,\n",
    "})\n",
    "\n",
    "none_related_messages = [\n",
    "    {\"Intention\": \"None_related\", \"Message\": sanitize_input(message.message)}\n",
    "    for message in response_none.messages\n",
    "]\n",
    "add_messages(none_related_messages, file_name)"
   ]
  }
 ],
 "metadata": {
  "kernelspec": {
   "display_name": "capstone-project.txt",
   "language": "python",
   "name": "python3"
  },
  "language_info": {
   "codemirror_mode": {
    "name": "ipython",
    "version": 3
   },
   "file_extension": ".py",
   "mimetype": "text/x-python",
   "name": "python",
   "nbconvert_exporter": "python",
   "pygments_lexer": "ipython3",
   "version": "3.12.7"
  }
 },
 "nbformat": 4,
 "nbformat_minor": 2
}
