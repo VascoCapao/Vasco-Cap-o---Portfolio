{
 "cells": [
  {
   "cell_type": "markdown",
   "metadata": {},
   "source": [
    "#### NOVA IMS / BSc in Data Science / Text Mining 2024/2025\n",
    "### <b>Group Project: \"Solving the Hyderabadi Word Soup\"</b>\n",
    "#### Notebook `Topic Modeling`\n",
    "\n",
    "#### Group:\n",
    "- `Miguel Matos - 20221925`\n",
    "- `Nuno Leandro - 20221861`\n",
    "- `Patrícia Bezerra - 20221907`\n",
    "- `Rita Silva - 20221920`\n",
    "- `Vasco Capão - 20221906`\n",
    "\n",
    "#### <font color='#BFD72F'>Table of Contents </font> <a class=\"anchor\" id='toc'></a> \n",
    "- [0. Imports](#p0)\n",
    "- [1. Data Preparation for Topic Modeling](#p1)\n",
    "- [2. LDA (Latent Dirichlet Allocation)](#p2)\n",
    "- [3. LSA (Latent Semantic Analysis)](#p3)\n",
    "- [4. Bertopic](#p4)\n",
    "- [5. Conclusion](#p5)"
   ]
  },
  {
   "cell_type": "markdown",
   "metadata": {},
   "source": [
    "<font color='#BFD72F' size=8>Topic Modeling (Information Requirement 3322)</font> <a class=\"anchor\" id=\"p0-0\"></a>"
   ]
  },
  {
   "cell_type": "markdown",
   "metadata": {},
   "source": [
    "\"Can the reviews be classified according to emergent topics? What do the emergent\n",
    "topic mean?\""
   ]
  },
  {
   "cell_type": "markdown",
   "metadata": {},
   "source": [
    "<font color='#BFD72F' size=7>0. Imports</font> <a class=\"anchor\" id=\"p0\"></a>"
   ]
  },
  {
   "cell_type": "markdown",
   "metadata": {},
   "source": [
    "In this notebook, a separate environment had to be created because pyLDAvis and BERTopic often introduce compatibility issues due to dependencies on different versions of libraries."
   ]
  },
  {
   "cell_type": "code",
   "execution_count": 2,
   "metadata": {},
   "outputs": [],
   "source": [
    "import pandas as pd\n",
    "\n",
    "import gensim\n",
    "from gensim import corpora\n",
    "from gensim.models import LsiModel, LdaModel, CoherenceModel\n",
    "\n",
    "import pyLDAvis\n",
    "import pyLDAvis.gensim_models as gensimvis\n",
    "\n",
    "import bertopic\n",
    "from bertopic import BERTopic\n",
    "\n",
    "from utils.pipeline_project import *"
   ]
  },
  {
   "cell_type": "code",
   "execution_count": 3,
   "metadata": {},
   "outputs": [
    {
     "name": "stdout",
     "output_type": "stream",
     "text": [
      "Pandas version: 2.2.3\n",
      "Gensim version: 4.3.0\n",
      "pyLDAvis version: 3.4.0\n",
      "BERTopic version: 0.16.4\n"
     ]
    }
   ],
   "source": [
    "# Display library versions\n",
    "print(f\"Pandas version: {pd.__version__}\")\n",
    "print(f\"Gensim version: {gensim.__version__}\")\n",
    "print(f\"pyLDAvis version: {pyLDAvis.__version__}\")\n",
    "print(f\"BERTopic version: {bertopic.__version__}\")\n"
   ]
  },
  {
   "cell_type": "markdown",
   "metadata": {},
   "source": [
    "<font color='#BFD72F' size=7>1. Data Preparation for Topic Modeling</font> <a class=\"anchor\" id=\"p1\"></a>\n",
    "\n",
    "[Back to TOC](#toc)"
   ]
  },
  {
   "cell_type": "code",
   "execution_count": 2,
   "metadata": {},
   "outputs": [],
   "source": [
    "data = pd.read_csv('Data/shorten_df.csv')"
   ]
  },
  {
   "cell_type": "code",
   "execution_count": 3,
   "metadata": {},
   "outputs": [
    {
     "data": {
      "text/html": [
       "<div>\n",
       "<style scoped>\n",
       "    .dataframe tbody tr th:only-of-type {\n",
       "        vertical-align: middle;\n",
       "    }\n",
       "\n",
       "    .dataframe tbody tr th {\n",
       "        vertical-align: top;\n",
       "    }\n",
       "\n",
       "    .dataframe thead th {\n",
       "        text-align: right;\n",
       "    }\n",
       "</style>\n",
       "<table border=\"1\" class=\"dataframe\">\n",
       "  <thead>\n",
       "    <tr style=\"text-align: right;\">\n",
       "      <th></th>\n",
       "      <th>Unnamed: 0</th>\n",
       "      <th>Name</th>\n",
       "      <th>Review</th>\n",
       "      <th>Rating</th>\n",
       "      <th>Cuisines</th>\n",
       "      <th>preproc_reviews</th>\n",
       "      <th>msg_len</th>\n",
       "      <th>sents</th>\n",
       "      <th>nr_sents</th>\n",
       "    </tr>\n",
       "  </thead>\n",
       "  <tbody>\n",
       "    <tr>\n",
       "      <th>0</th>\n",
       "      <td>0</td>\n",
       "      <td>Beyond Flavours</td>\n",
       "      <td>The ambience was good, food was quite good . h...</td>\n",
       "      <td>5.0</td>\n",
       "      <td>Chinese, Continental, Kebab, European, South I...</td>\n",
       "      <td>ambience good food quite good saturday lunch c...</td>\n",
       "      <td>154</td>\n",
       "      <td>['The ambience was good, food was quite good ....</td>\n",
       "      <td>5</td>\n",
       "    </tr>\n",
       "    <tr>\n",
       "      <th>1</th>\n",
       "      <td>1</td>\n",
       "      <td>Beyond Flavours</td>\n",
       "      <td>Ambience is too good for a pleasant evening. S...</td>\n",
       "      <td>5.0</td>\n",
       "      <td>Chinese, Continental, Kebab, European, South I...</td>\n",
       "      <td>ambience good pleasant evening service prompt ...</td>\n",
       "      <td>98</td>\n",
       "      <td>['Ambience is too good for a pleasant evening....</td>\n",
       "      <td>5</td>\n",
       "    </tr>\n",
       "    <tr>\n",
       "      <th>2</th>\n",
       "      <td>2</td>\n",
       "      <td>Beyond Flavours</td>\n",
       "      <td>A must try.. great food great ambience. Thnx f...</td>\n",
       "      <td>5.0</td>\n",
       "      <td>Chinese, Continental, Kebab, European, South I...</td>\n",
       "      <td>must try great food great ambience thnx servic...</td>\n",
       "      <td>137</td>\n",
       "      <td>['A must try.. great food great ambience.', 'T...</td>\n",
       "      <td>3</td>\n",
       "    </tr>\n",
       "    <tr>\n",
       "      <th>3</th>\n",
       "      <td>3</td>\n",
       "      <td>Beyond Flavours</td>\n",
       "      <td>Soumen das and Arun was a great guy. Only beca...</td>\n",
       "      <td>5.0</td>\n",
       "      <td>Chinese, Continental, Kebab, European, South I...</td>\n",
       "      <td>soumen da arun great guy behavior sincerety go...</td>\n",
       "      <td>83</td>\n",
       "      <td>['Soumen das and Arun was a great guy.', 'Only...</td>\n",
       "      <td>2</td>\n",
       "    </tr>\n",
       "    <tr>\n",
       "      <th>4</th>\n",
       "      <td>4</td>\n",
       "      <td>Beyond Flavours</td>\n",
       "      <td>Food is good.we ordered Kodi drumsticks and ba...</td>\n",
       "      <td>5.0</td>\n",
       "      <td>Chinese, Continental, Kebab, European, South I...</td>\n",
       "      <td>food ordered kodi drumstick basket mutton biry...</td>\n",
       "      <td>108</td>\n",
       "      <td>['Food is good.we ordered Kodi drumsticks and ...</td>\n",
       "      <td>6</td>\n",
       "    </tr>\n",
       "    <tr>\n",
       "      <th>...</th>\n",
       "      <td>...</td>\n",
       "      <td>...</td>\n",
       "      <td>...</td>\n",
       "      <td>...</td>\n",
       "      <td>...</td>\n",
       "      <td>...</td>\n",
       "      <td>...</td>\n",
       "      <td>...</td>\n",
       "      <td>...</td>\n",
       "    </tr>\n",
       "    <tr>\n",
       "      <th>9194</th>\n",
       "      <td>9991</td>\n",
       "      <td>Chinese Pavilion</td>\n",
       "      <td>I visited this restaurant with friends and was...</td>\n",
       "      <td>5.0</td>\n",
       "      <td>Chinese, Seafood</td>\n",
       "      <td>visited restaurant friend immediately blown aw...</td>\n",
       "      <td>313</td>\n",
       "      <td>['I visited this restaurant with friends and w...</td>\n",
       "      <td>5</td>\n",
       "    </tr>\n",
       "    <tr>\n",
       "      <th>9195</th>\n",
       "      <td>9992</td>\n",
       "      <td>Chinese Pavilion</td>\n",
       "      <td>Im going to cut to the chase, The food is exce...</td>\n",
       "      <td>5.0</td>\n",
       "      <td>Chinese, Seafood</td>\n",
       "      <td>im going cut chase food excellent must say hon...</td>\n",
       "      <td>198</td>\n",
       "      <td>['Im going to cut to the chase, The food is ex...</td>\n",
       "      <td>6</td>\n",
       "    </tr>\n",
       "    <tr>\n",
       "      <th>9196</th>\n",
       "      <td>9995</td>\n",
       "      <td>Chinese Pavilion</td>\n",
       "      <td>This place has never disappointed us.. The foo...</td>\n",
       "      <td>4.5</td>\n",
       "      <td>Chinese, Seafood</td>\n",
       "      <td>place never disappointed u food courteous staf...</td>\n",
       "      <td>226</td>\n",
       "      <td>['This place has never disappointed us.. The f...</td>\n",
       "      <td>3</td>\n",
       "    </tr>\n",
       "    <tr>\n",
       "      <th>9197</th>\n",
       "      <td>9997</td>\n",
       "      <td>Chinese Pavilion</td>\n",
       "      <td>I personally love and prefer Chinese Food. Had...</td>\n",
       "      <td>4.0</td>\n",
       "      <td>Chinese, Seafood</td>\n",
       "      <td>personally love prefer chinese food couple tim...</td>\n",
       "      <td>288</td>\n",
       "      <td>['I personally love and prefer Chinese Food.',...</td>\n",
       "      <td>7</td>\n",
       "    </tr>\n",
       "    <tr>\n",
       "      <th>9198</th>\n",
       "      <td>9998</td>\n",
       "      <td>Chinese Pavilion</td>\n",
       "      <td>Checked in here to try some delicious chinese ...</td>\n",
       "      <td>3.5</td>\n",
       "      <td>Chinese, Seafood</td>\n",
       "      <td>checked try delicious chinese food seen non-ve...</td>\n",
       "      <td>387</td>\n",
       "      <td>[\"Checked in here to try some delicious chines...</td>\n",
       "      <td>2</td>\n",
       "    </tr>\n",
       "  </tbody>\n",
       "</table>\n",
       "<p>9199 rows × 9 columns</p>\n",
       "</div>"
      ],
      "text/plain": [
       "      Unnamed: 0              Name  \\\n",
       "0              0   Beyond Flavours   \n",
       "1              1   Beyond Flavours   \n",
       "2              2   Beyond Flavours   \n",
       "3              3   Beyond Flavours   \n",
       "4              4   Beyond Flavours   \n",
       "...          ...               ...   \n",
       "9194        9991  Chinese Pavilion   \n",
       "9195        9992  Chinese Pavilion   \n",
       "9196        9995  Chinese Pavilion   \n",
       "9197        9997  Chinese Pavilion   \n",
       "9198        9998  Chinese Pavilion   \n",
       "\n",
       "                                                 Review  Rating  \\\n",
       "0     The ambience was good, food was quite good . h...     5.0   \n",
       "1     Ambience is too good for a pleasant evening. S...     5.0   \n",
       "2     A must try.. great food great ambience. Thnx f...     5.0   \n",
       "3     Soumen das and Arun was a great guy. Only beca...     5.0   \n",
       "4     Food is good.we ordered Kodi drumsticks and ba...     5.0   \n",
       "...                                                 ...     ...   \n",
       "9194  I visited this restaurant with friends and was...     5.0   \n",
       "9195  Im going to cut to the chase, The food is exce...     5.0   \n",
       "9196  This place has never disappointed us.. The foo...     4.5   \n",
       "9197  I personally love and prefer Chinese Food. Had...     4.0   \n",
       "9198  Checked in here to try some delicious chinese ...     3.5   \n",
       "\n",
       "                                               Cuisines  \\\n",
       "0     Chinese, Continental, Kebab, European, South I...   \n",
       "1     Chinese, Continental, Kebab, European, South I...   \n",
       "2     Chinese, Continental, Kebab, European, South I...   \n",
       "3     Chinese, Continental, Kebab, European, South I...   \n",
       "4     Chinese, Continental, Kebab, European, South I...   \n",
       "...                                                 ...   \n",
       "9194                                   Chinese, Seafood   \n",
       "9195                                   Chinese, Seafood   \n",
       "9196                                   Chinese, Seafood   \n",
       "9197                                   Chinese, Seafood   \n",
       "9198                                   Chinese, Seafood   \n",
       "\n",
       "                                        preproc_reviews  msg_len  \\\n",
       "0     ambience good food quite good saturday lunch c...      154   \n",
       "1     ambience good pleasant evening service prompt ...       98   \n",
       "2     must try great food great ambience thnx servic...      137   \n",
       "3     soumen da arun great guy behavior sincerety go...       83   \n",
       "4     food ordered kodi drumstick basket mutton biry...      108   \n",
       "...                                                 ...      ...   \n",
       "9194  visited restaurant friend immediately blown aw...      313   \n",
       "9195  im going cut chase food excellent must say hon...      198   \n",
       "9196  place never disappointed u food courteous staf...      226   \n",
       "9197  personally love prefer chinese food couple tim...      288   \n",
       "9198  checked try delicious chinese food seen non-ve...      387   \n",
       "\n",
       "                                                  sents  nr_sents  \n",
       "0     ['The ambience was good, food was quite good ....         5  \n",
       "1     ['Ambience is too good for a pleasant evening....         5  \n",
       "2     ['A must try.. great food great ambience.', 'T...         3  \n",
       "3     ['Soumen das and Arun was a great guy.', 'Only...         2  \n",
       "4     ['Food is good.we ordered Kodi drumsticks and ...         6  \n",
       "...                                                 ...       ...  \n",
       "9194  ['I visited this restaurant with friends and w...         5  \n",
       "9195  ['Im going to cut to the chase, The food is ex...         6  \n",
       "9196  ['This place has never disappointed us.. The f...         3  \n",
       "9197  ['I personally love and prefer Chinese Food.',...         7  \n",
       "9198  [\"Checked in here to try some delicious chines...         2  \n",
       "\n",
       "[9199 rows x 9 columns]"
      ]
     },
     "execution_count": 3,
     "metadata": {},
     "output_type": "execute_result"
    }
   ],
   "source": [
    "data"
   ]
  },
  {
   "cell_type": "code",
   "execution_count": 4,
   "metadata": {},
   "outputs": [],
   "source": [
    "data['clean_reviews_tokens'] = data['preproc_reviews'].apply(\n",
    "    lambda x: main_pipeline(str(x), \n",
    "                            print_output=False, \n",
    "                            no_stopwords=False,\n",
    "                            custom_stopwords=[], \n",
    "                            convert_diacritics=False, \n",
    "                            lowercase=False, \n",
    "                            lemmatized=False,\n",
    "                            stemmed=False, \n",
    "                            pos_tags_list=\"no_pos\",\n",
    "                            tokenized_output=True,\n",
    "                            no_punctuation = False)\n",
    ")"
   ]
  },
  {
   "cell_type": "code",
   "execution_count": 5,
   "metadata": {},
   "outputs": [],
   "source": [
    "pd.set_option(\"display.max_colwidth\", None) "
   ]
  },
  {
   "cell_type": "code",
   "execution_count": 6,
   "metadata": {},
   "outputs": [
    {
     "data": {
      "text/html": [
       "<div>\n",
       "<style scoped>\n",
       "    .dataframe tbody tr th:only-of-type {\n",
       "        vertical-align: middle;\n",
       "    }\n",
       "\n",
       "    .dataframe tbody tr th {\n",
       "        vertical-align: top;\n",
       "    }\n",
       "\n",
       "    .dataframe thead th {\n",
       "        text-align: right;\n",
       "    }\n",
       "</style>\n",
       "<table border=\"1\" class=\"dataframe\">\n",
       "  <thead>\n",
       "    <tr style=\"text-align: right;\">\n",
       "      <th></th>\n",
       "      <th>Review</th>\n",
       "      <th>clean_reviews_tokens</th>\n",
       "    </tr>\n",
       "  </thead>\n",
       "  <tbody>\n",
       "    <tr>\n",
       "      <th>0</th>\n",
       "      <td>The ambience was good, food was quite good . had Saturday lunch , which was cost effective .\\nGood place for a sate brunch. One can also chill with friends and or parents.\\nWaiter Soumen Das was really courteous and helpful.</td>\n",
       "      <td>[ambience, good, food, quite, good, saturday, lunch, cost, effective, good, place, sate, brunch, one, also, chill, friend, parent, waiter, soumen, das, really, courteous, helpful]</td>\n",
       "    </tr>\n",
       "    <tr>\n",
       "      <th>1</th>\n",
       "      <td>Ambience is too good for a pleasant evening. Service is very prompt. Food is good. Over all a good experience. Soumen Das - kudos to the service</td>\n",
       "      <td>[ambience, good, pleasant, evening, service, prompt, food, good, good, experience, soumen, das, -, kudos, service]</td>\n",
       "    </tr>\n",
       "    <tr>\n",
       "      <th>2</th>\n",
       "      <td>A must try.. great food great ambience. Thnx for the service by Pradeep and Subroto. My personal recommendation is Penne Alfredo Pasta:) ....... Also the music in the background is amazing.</td>\n",
       "      <td>[must, try, great, food, great, ambience, thnx, service, pradeep, subroto, personal, recommendation, penne, alfredo, pasta, also, music, background, amazing]</td>\n",
       "    </tr>\n",
       "    <tr>\n",
       "      <th>3</th>\n",
       "      <td>Soumen das and Arun was a great guy. Only because of their behavior and sincerety, And good food off course, I would like to visit this place again.</td>\n",
       "      <td>[soumen, da, arun, great, guy, behavior, sincerety, good, food, course, would, like, visit, place]</td>\n",
       "    </tr>\n",
       "    <tr>\n",
       "      <th>4</th>\n",
       "      <td>Food is good.we ordered Kodi drumsticks and basket mutton biryani. All are good. Thanks to Pradeep. He served well. We enjoyed here. Ambience is also very good.</td>\n",
       "      <td>[food, ordered, kodi, drumstick, basket, mutton, biryani, good, thanks, pradeep, served, well, enjoyed, ambience, also, good]</td>\n",
       "    </tr>\n",
       "    <tr>\n",
       "      <th>...</th>\n",
       "      <td>...</td>\n",
       "      <td>...</td>\n",
       "    </tr>\n",
       "    <tr>\n",
       "      <th>9194</th>\n",
       "      <td>I visited this restaurant with friends and was immediately blown away with the quality of service.\\nWe were seated immediately and the staff was courteous and professional especially with our large group.\\nThe ambience is one of the best I've come across with a rather unusually quirky ceiling piece.\\nFood - I had the stuffed mushroom which was delicious along with a Fruit punch and a chocolate volcano.\\nAll in all one of the best culinary experiences I've had in the city.</td>\n",
       "      <td>[visited, restaurant, friend, immediately, blown, away, quality, service, seated, immediately, staff, courteous, professional, especially, large, group, ambience, one, best, 've, come, across, rather, unusually, quirky, ceiling, piece, food, -, stuffed, mushroom, delicious, along, fruit, punch, chocolate, volcano, one, best, culinary, experience, 've, city]</td>\n",
       "    </tr>\n",
       "    <tr>\n",
       "      <th>9195</th>\n",
       "      <td>Im going to cut to the chase, The food is excellent! \\n\\nI must say the honey Chicken and the Thai Chow Kay is by far the best. \\nThe Man Chow soup is another brilliant piece of art! \\nFor me this Chinese Pavilion beats any Chinese restaurant in the city.  \\n\\nNo wonder its called Chinese Pavilion! :D</td>\n",
       "      <td>[im, going, cut, chase, food, excellent, must, say, honey, chicken, thai, chow, kay, far, best, man, chow, soup, another, brilliant, piece, art, chinese, pavilion, beat, chinese, restaurant, city, wonder, called, chinese, pavilion]</td>\n",
       "    </tr>\n",
       "    <tr>\n",
       "      <th>9196</th>\n",
       "      <td>This place has never disappointed us.. The food, the courteous staff, the serene ambience.. We wanted to have something totally rice free and with very little oil. They served us Steamed Fish with chilly garlic noodles with Chicken. As always it was awesome.. Thanks Chinese Pavilion, it is always a pleasant experience!</td>\n",
       "      <td>[place, never, disappointed, u, food, courteous, staff, serene, ambience, wanted, something, totally, rice, free, little, oil, served, u, steamed, fish, chilly, garlic, noodle, chicken, always, awesome, thanks, chinese, pavilion, always, pleasant, experience]</td>\n",
       "    </tr>\n",
       "    <tr>\n",
       "      <th>9197</th>\n",
       "      <td>I personally love and prefer Chinese Food. Had been here couple of times with my husband.\\n\\nThe ambiance of the place is very good. The entrance has some carvings and the walls were very nicely decorated. The server was very polite\\n\\nWhen it comes to food this place does not disappoint.This is a small/comfy restaurant that is surprisingly not very crowded even on weekends. \\n\\nWe went there for our anniversary celebrations and it was just perfect. No crowd, we got the attention and service we were looking for.</td>\n",
       "      <td>[personally, love, prefer, chinese, food, couple, time, husband, ambiance, place, good, entrance, carving, wall, nicely, decorated, server, polite, come, food, place, disappointthis, smallcomfy, restaurant, surprisingly, crowded, even, weekend, went, anniversary, celebration, perfect, crowd, got, attention, service, looking]</td>\n",
       "    </tr>\n",
       "    <tr>\n",
       "      <th>9198</th>\n",
       "      <td>Checked in here to try some delicious chinese food here, seen non-veg luncheon tray menu ans tried the same which they are charging 300+ taxes..\\nStarted with manchow soup and liked it instantly.. Thereafter luncheon tray had came with pepper chicken starter, kimchi (salad), wolly chicken, egg fried rice and egg hakka noodles.. Taste is fine and didn't liked eating egg hakka noodles and egg fried rice at a time.. Badly missed dessert along with tray! (Dnt mind for extra price..)\\nValue for money and fine ambience.</td>\n",
       "      <td>[checked, try, delicious, chinese, food, seen, non-veg, luncheon, tray, menu, an, tried, charging, 300, tax, started, manchow, soup, liked, instantly, thereafter, luncheon, tray, came, pepper, chicken, starter, kimchi, salad, wolly, chicken, egg, fried, rice, egg, hakka, noodle, taste, fine, didnt, liked, eating, egg, hakka, noodle, egg, fried, rice, time, badly, missed, dessert, along, tray, dnt, mind, extra, price, value, money, fine, ambience]</td>\n",
       "    </tr>\n",
       "  </tbody>\n",
       "</table>\n",
       "<p>9199 rows × 2 columns</p>\n",
       "</div>"
      ],
      "text/plain": [
       "                                                                                                                                                                                                                                                                                                                                                                                                                                                                                                                                       Review  \\\n",
       "0                                                                                                                                                                                                                                                                                                            The ambience was good, food was quite good . had Saturday lunch , which was cost effective .\\nGood place for a sate brunch. One can also chill with friends and or parents.\\nWaiter Soumen Das was really courteous and helpful.   \n",
       "1                                                                                                                                                                                                                                                                                                                                                                                            Ambience is too good for a pleasant evening. Service is very prompt. Food is good. Over all a good experience. Soumen Das - kudos to the service   \n",
       "2                                                                                                                                                                                                                                                                                                                                               A must try.. great food great ambience. Thnx for the service by Pradeep and Subroto. My personal recommendation is Penne Alfredo Pasta:) ....... Also the music in the background is amazing.   \n",
       "3                                                                                                                                                                                                                                                                                                                                                                                        Soumen das and Arun was a great guy. Only because of their behavior and sincerety, And good food off course, I would like to visit this place again.   \n",
       "4                                                                                                                                                                                                                                                                                                                                                                            Food is good.we ordered Kodi drumsticks and basket mutton biryani. All are good. Thanks to Pradeep. He served well. We enjoyed here. Ambience is also very good.   \n",
       "...                                                                                                                                                                                                                                                                                                                                                                                                                                                                                                                                       ...   \n",
       "9194                                             I visited this restaurant with friends and was immediately blown away with the quality of service.\\nWe were seated immediately and the staff was courteous and professional especially with our large group.\\nThe ambience is one of the best I've come across with a rather unusually quirky ceiling piece.\\nFood - I had the stuffed mushroom which was delicious along with a Fruit punch and a chocolate volcano.\\nAll in all one of the best culinary experiences I've had in the city.   \n",
       "9195                                                                                                                                                                                                                           Im going to cut to the chase, The food is excellent! \\n\\nI must say the honey Chicken and the Thai Chow Kay is by far the best. \\nThe Man Chow soup is another brilliant piece of art! \\nFor me this Chinese Pavilion beats any Chinese restaurant in the city.  \\n\\nNo wonder its called Chinese Pavilion! :D   \n",
       "9196                                                                                                                                                                                                         This place has never disappointed us.. The food, the courteous staff, the serene ambience.. We wanted to have something totally rice free and with very little oil. They served us Steamed Fish with chilly garlic noodles with Chicken. As always it was awesome.. Thanks Chinese Pavilion, it is always a pleasant experience!   \n",
       "9197    I personally love and prefer Chinese Food. Had been here couple of times with my husband.\\n\\nThe ambiance of the place is very good. The entrance has some carvings and the walls were very nicely decorated. The server was very polite\\n\\nWhen it comes to food this place does not disappoint.This is a small/comfy restaurant that is surprisingly not very crowded even on weekends. \\n\\nWe went there for our anniversary celebrations and it was just perfect. No crowd, we got the attention and service we were looking for.   \n",
       "9198  Checked in here to try some delicious chinese food here, seen non-veg luncheon tray menu ans tried the same which they are charging 300+ taxes..\\nStarted with manchow soup and liked it instantly.. Thereafter luncheon tray had came with pepper chicken starter, kimchi (salad), wolly chicken, egg fried rice and egg hakka noodles.. Taste is fine and didn't liked eating egg hakka noodles and egg fried rice at a time.. Badly missed dessert along with tray! (Dnt mind for extra price..)\\nValue for money and fine ambience.   \n",
       "\n",
       "                                                                                                                                                                                                                                                                                                                                                                                                                                                    clean_reviews_tokens  \n",
       "0                                                                                                                                                                                                                                                                                    [ambience, good, food, quite, good, saturday, lunch, cost, effective, good, place, sate, brunch, one, also, chill, friend, parent, waiter, soumen, das, really, courteous, helpful]  \n",
       "1                                                                                                                                                                                                                                                                                                                                                     [ambience, good, pleasant, evening, service, prompt, food, good, good, experience, soumen, das, -, kudos, service]  \n",
       "2                                                                                                                                                                                                                                                                                                          [must, try, great, food, great, ambience, thnx, service, pradeep, subroto, personal, recommendation, penne, alfredo, pasta, also, music, background, amazing]  \n",
       "3                                                                                                                                                                                                                                                                                                                                                                     [soumen, da, arun, great, guy, behavior, sincerety, good, food, course, would, like, visit, place]  \n",
       "4                                                                                                                                                                                                                                                                                                                                          [food, ordered, kodi, drumstick, basket, mutton, biryani, good, thanks, pradeep, served, well, enjoyed, ambience, also, good]  \n",
       "...                                                                                                                                                                                                                                                                                                                                                                                                                                                                  ...  \n",
       "9194                                                                                             [visited, restaurant, friend, immediately, blown, away, quality, service, seated, immediately, staff, courteous, professional, especially, large, group, ambience, one, best, 've, come, across, rather, unusually, quirky, ceiling, piece, food, -, stuffed, mushroom, delicious, along, fruit, punch, chocolate, volcano, one, best, culinary, experience, 've, city]  \n",
       "9195                                                                                                                                                                                                                             [im, going, cut, chase, food, excellent, must, say, honey, chicken, thai, chow, kay, far, best, man, chow, soup, another, brilliant, piece, art, chinese, pavilion, beat, chinese, restaurant, city, wonder, called, chinese, pavilion]  \n",
       "9196                                                                                                                                                                                                 [place, never, disappointed, u, food, courteous, staff, serene, ambience, wanted, something, totally, rice, free, little, oil, served, u, steamed, fish, chilly, garlic, noodle, chicken, always, awesome, thanks, chinese, pavilion, always, pleasant, experience]  \n",
       "9197                                                                                                                              [personally, love, prefer, chinese, food, couple, time, husband, ambiance, place, good, entrance, carving, wall, nicely, decorated, server, polite, come, food, place, disappointthis, smallcomfy, restaurant, surprisingly, crowded, even, weekend, went, anniversary, celebration, perfect, crowd, got, attention, service, looking]  \n",
       "9198  [checked, try, delicious, chinese, food, seen, non-veg, luncheon, tray, menu, an, tried, charging, 300, tax, started, manchow, soup, liked, instantly, thereafter, luncheon, tray, came, pepper, chicken, starter, kimchi, salad, wolly, chicken, egg, fried, rice, egg, hakka, noodle, taste, fine, didnt, liked, eating, egg, hakka, noodle, egg, fried, rice, time, badly, missed, dessert, along, tray, dnt, mind, extra, price, value, money, fine, ambience]  \n",
       "\n",
       "[9199 rows x 2 columns]"
      ]
     },
     "execution_count": 6,
     "metadata": {},
     "output_type": "execute_result"
    }
   ],
   "source": [
    "data[['Review', 'clean_reviews_tokens']]"
   ]
  },
  {
   "cell_type": "code",
   "execution_count": 7,
   "metadata": {},
   "outputs": [],
   "source": [
    "dictionary = corpora.Dictionary(data['clean_reviews_tokens'])\n",
    "corpus = [dictionary.doc2bow(text) for text in data['clean_reviews_tokens']]"
   ]
  },
  {
   "cell_type": "markdown",
   "metadata": {},
   "source": [
    "<font color='#BFD72F' size=7>2. LDA</font> <a class=\"anchor\" id=\"p2\"></a>\n",
    "\n",
    "[Back to TOC](#toc)"
   ]
  },
  {
   "cell_type": "markdown",
   "metadata": {},
   "source": [
    "For all three models, we intentionally selected and test a lower number of topics compared to the examples used in class. This decision was driven by the goal of making the results more manageable and easier to interpret, especially for a preliminary analysis. A smaller number of topics allowed us to focus on the most prominent themes without getting overwhelmed by too many fine-grained, potentially less relevant topics."
   ]
  },
  {
   "cell_type": "markdown",
   "metadata": {},
   "source": [
    "We are now going to test different numbers of topics for LDA model to identify the optimal topic distribution for our dataset. By adjusting the number of topics and evaluating the coherence score, we aim to identify the model that effectively uncovers meaningful and interpretable patterns in the data."
   ]
  },
  {
   "cell_type": "code",
   "execution_count": 8,
   "metadata": {},
   "outputs": [
    {
     "name": "stdout",
     "output_type": "stream",
     "text": [
      "Testing num_topics=3...\n",
      "Coherence Score: 0.5132\n",
      "Testing num_topics=5...\n",
      "Coherence Score: 0.5529\n",
      "Testing num_topics=10...\n",
      "Coherence Score: 0.5160\n",
      "Testing num_topics=15...\n",
      "Coherence Score: 0.5280\n",
      "Coherence did not improve for two consecutive iterations. Stopping...\n",
      "\n",
      "Best Model Found:\n",
      "Number of Topics: 5\n",
      "Best Coherence Score: 0.5529\n",
      "\n",
      "Results Summary:\n",
      "   num_topics  coherence\n",
      "0           3   0.513184\n",
      "1           5   0.552922\n",
      "2          10   0.515994\n",
      "3          15   0.527988\n"
     ]
    }
   ],
   "source": [
    "# Parameters to test\n",
    "num_topics_range = [3, 5, 10, 15]\n",
    "\n",
    "# Variables to store the best results\n",
    "best_coherence = 0\n",
    "best_model = None\n",
    "best_num_topics = 0\n",
    "\n",
    "# List to store coherence scores\n",
    "coherence_scores = []\n",
    "\n",
    "# Counter for consecutive non-improvements\n",
    "no_improvement_count = 0\n",
    "\n",
    "# Loop to test different values of num_topics\n",
    "for num_topics in num_topics_range:\n",
    "    print(f\"Testing num_topics={num_topics}...\")\n",
    "    \n",
    "    # Train the LDA model\n",
    "    lda_model = LdaModel(corpus, num_topics=num_topics, id2word=dictionary, passes=20, random_state=42)\n",
    "    \n",
    "    # Calculate the coherence score\n",
    "    coherence_model = CoherenceModel(model=lda_model, texts=data['clean_reviews_tokens'], dictionary=dictionary, coherence='c_v')\n",
    "    coherence_score = coherence_model.get_coherence()\n",
    "    \n",
    "    # Store the result\n",
    "    coherence_scores.append((num_topics, coherence_score))\n",
    "    print(f\"Coherence Score: {coherence_score:.4f}\")\n",
    "    \n",
    "    # Check if the coherence score improved\n",
    "    if coherence_score > best_coherence:\n",
    "        best_coherence = coherence_score\n",
    "        best_model = lda_model\n",
    "        best_num_topics = num_topics\n",
    "        no_improvement_count = 0  # Reset counter\n",
    "    else:\n",
    "        no_improvement_count += 1\n",
    "    \n",
    "    # Stop if no improvement for two consecutive iterations\n",
    "    if no_improvement_count >= 2:\n",
    "        print(\"Coherence did not improve for two consecutive iterations. Stopping...\")\n",
    "        break\n",
    "\n",
    "# Final results\n",
    "print(\"\\nBest Model Found:\")\n",
    "print(f\"Number of Topics: {best_num_topics}\")\n",
    "print(f\"Best Coherence Score: {best_coherence:.4f}\")\n",
    "\n",
    "# Save results in a DataFrame\n",
    "results_df = pd.DataFrame(coherence_scores, columns=['num_topics', 'coherence'])\n",
    "print(\"\\nResults Summary:\")\n",
    "print(results_df)"
   ]
  },
  {
   "cell_type": "code",
   "execution_count": 9,
   "metadata": {},
   "outputs": [],
   "source": [
    "best_model.save('Models/best_LDA_model.gensim')"
   ]
  },
  {
   "cell_type": "code",
   "execution_count": 10,
   "metadata": {},
   "outputs": [
    {
     "data": {
      "text/plain": [
       "(5, 13342)"
      ]
     },
     "execution_count": 10,
     "metadata": {},
     "output_type": "execute_result"
    }
   ],
   "source": [
    "best_model.get_topics().shape"
   ]
  },
  {
   "cell_type": "code",
   "execution_count": 11,
   "metadata": {},
   "outputs": [
    {
     "name": "stdout",
     "output_type": "stream",
     "text": [
      "(0, '0.024*\"food\" + 0.023*\"order\" + 0.014*\"dont\" + 0.014*\"restaurant\" + 0.014*\"worst\"')\n",
      "(1, '0.031*\"service\" + 0.028*\"good\" + 0.026*\"food\" + 0.014*\"staff\" + 0.013*\"buffet\"')\n",
      "(2, '0.052*\"place\" + 0.039*\"food\" + 0.033*\"good\" + 0.018*\"service\" + 0.017*\"ambience\"')\n",
      "(3, '0.026*\"chocolate\" + 0.024*\"cake\" + 0.017*\"cream\" + 0.015*\"ice\" + 0.010*\"brownie\"')\n",
      "(4, '0.044*\"good\" + 0.040*\"chicken\" + 0.024*\"ordered\" + 0.022*\"taste\" + 0.016*\"biryani\"')\n"
     ]
    }
   ],
   "source": [
    "topics = best_model.print_topics(num_words=5)\n",
    "for topic in topics:\n",
    "    print(topic)"
   ]
  },
  {
   "cell_type": "markdown",
   "metadata": {},
   "source": [
    "Topic 0 - **Negative Dining Experience**: This topic includes terms such as \"food\", \"order\", \"restaurant\", \"worst\", and \"don't\", indicating negative reviews about dining experiences.\n",
    "\n",
    "Topic 1 - **Positive Service and Buffet**: The main terms in this topic include \"service\", \"good\", \"food\", \"staff\", and \"buffet\". It reflects positive experiences, particularly those related to good service and buffet offerings. \n",
    "\n",
    "Topic 2 - **Restaurant Atmosphere and Food Quality**: This topic is characterized by words such as \"place\", \"food\", \"good\", \"service\", and \"ambience\". It suggests a focus on the overall dining experience, including the quality of food, the atmosphere of the restaurant, and the service provided.\n",
    "\n",
    "Topic 3 - **Desserts and Sweets**: Words like \"chocolate\", \"cake\", \"cream\", \"ice\", and \"brownie\" dominate this topic, highlighting customer reviews about desserts. \n",
    "\n",
    "Topic 4 - **Positive Reviews on Food (Chicken & Biryani)**: This topic includes terms like \"good\", \"chicken\", \"ordered\", \"taste\", and \"biryani\". It reflects positive feedback on specific food items, particularly chicken dishes and biryani."
   ]
  },
  {
   "cell_type": "code",
   "execution_count": 12,
   "metadata": {},
   "outputs": [
    {
     "data": {
      "text/html": [
       "\n",
       "<link rel=\"stylesheet\" type=\"text/css\" href=\"https://cdn.jsdelivr.net/gh/bmabey/pyLDAvis@3.4.0/pyLDAvis/js/ldavis.v1.0.0.css\">\n",
       "\n",
       "\n",
       "<div id=\"ldavis_el8256257110108216080938565\" style=\"background-color:white;\"></div>\n",
       "<script type=\"text/javascript\">\n",
       "\n",
       "var ldavis_el8256257110108216080938565_data = {\"mdsDat\": {\"x\": [-0.09842190346295451, -0.008421316076247808, -0.07587156926287228, -0.12779297401733933, 0.31050776281941384], \"y\": [-0.14418810696041348, 0.05355291573114672, 0.22169897278939935, -0.09987820000198905, -0.031185581558143525], \"topics\": [1, 2, 3, 4, 5], \"cluster\": [1, 1, 1, 1, 1], \"Freq\": [37.831230116567546, 24.061800683564677, 16.475849390892513, 15.23081554560407, 6.400304263371195]}, \"tinfo\": {\"Term\": [\"chicken\", \"good\", \"place\", \"service\", \"ordered\", \"order\", \"staff\", \"chocolate\", \"biryani\", \"cake\", \"worst\", \"dont\", \"buffet\", \"rice\", \"amazing\", \"ambience\", \"food\", \"taste\", \"paneer\", \"quantity\", \"cream\", \"bad\", \"love\", \"great\", \"try\", \"visit\", \"u\", \"zomato\", \"veg\", \"best\", \"music\", \"hangout\", \"seating\", \"north\", \"enjoy\", \"weekend\", \"shake\", \"view\", \"cool\", \"beautiful\", \"cafe\", \"located\", \"interior\", \"hang\", \"asian\", \"saturday\", \"rooftop\", \"south\", \"sitting\", \"decor\", \"weekday\", \"cocktail\", \"outdoor\", \"brunch\", \"snack\", \"cozy\", \"sizzlers\", \"atmosphere\", \"chai\", \"maggi\", \"location\", \"amazing\", \"place\", \"wide\", \"indian\", \"best\", \"visit\", \"ambience\", \"must\", \"nice\", \"ambiance\", \"live\", \"great\", \"area\", \"expensive\", \"hyderabad\", \"family\", \"awesome\", \"friend\", \"love\", \"friendly\", \"food\", \"try\", \"service\", \"good\", \"loved\", \"staff\", \"night\", \"really\", \"go\", \"drink\", \"would\", \"one\", \"-\", \"time\", \"also\", \"restaurant\", \"taste\", \"rice\", \"paneer\", \"chicken\", \"spicy\", \"fried\", \"butter\", \"masala\", \"tikka\", \"corn\", \"garlic\", \"paratha\", \"biriyani\", \"chilli\", \"mandi\", \"tandoori\", \"roti\", \"naan\", \"parathas\", \"gravy\", \"combo\", \"wrap\", \"spice\", \"aloo\", \"dum\", \"juicy\", \"chilly\", \"onion\", \"pulao\", \"oily\", \"manchurian\", \"curry\", \"quantity\", \"sauce\", \"biryani\", \"noodle\", \"soup\", \"ordered\", \"burger\", \"mutton\", \"veg\", \"taste\", \"cooked\", \"le\", \"good\", \"piece\", \"tasted\", \"cheese\", \"also\", \"like\", \"food\", \"quality\", \"dish\", \"tasty\", \"tried\", \"really\", \"-\", \"one\", \"try\", \"worst\", \"waste\", \"horrible\", \"smell\", \"wrong\", \"deliver\", \"burnt\", \"charge\", \"literally\", \"pulav\", \"momo\", \"smelling\", \"understand\", \"refund\", \"spoiled\", \"maggie\", \"charged\", \"cook\", \"40\", \"kfc\", \"11\", \"spoon\", \"delivering\", \"disgusting\", \"accept\", \"cockroach\", \"domino\", \"informed\", \"pot\", \"pao\", \"half\", \"without\", \"1\", \"zomato\", \"dont\", \"15\", \"use\", \"pathetic\", \"order\", \"please\", \"never\", \"bad\", \"received\", \"call\", \"know\", \"ever\", \"gold\", \"money\", \"delivered\", \"hour\", \"bill\", \"delivery\", \"even\", \"restaurant\", \"didnt\", \"late\", \"got\", \"time\", \"2\", \"food\", \"ordered\", \"get\", \"quality\", \"one\", \"experience\", \"taste\", \"place\", \"service\", \"biryani\", \"care\", \"guest\", \"rude\", \"radisson\", \"behaviour\", \"brand\", \"govind\", \"lime\", \"attention\", \"cascade\", \"attitude\", \"selection\", \"signature\", \"salim\", \"behavior\", \"milkshake\", \"calm\", \"raza\", \"stag\", \"memorable\", \"delay\", \"hostess\", \"suck\", \"entry\", \"folk\", \"appreciated\", \"unprofessional\", \"deserts\", \"lemonade\", \"condition\", \"manager\", \"course\", \"main\", \"buffet\", \"team\", \"hyatt\", \"thanks\", \"table\", \"thank\", \"mr\", \"spread\", \"starter\", \"excellent\", \"customer\", \"u\", \"service\", \"starters\", \"experience\", \"lunch\", \"staff\", \"dinner\", \"went\", \"management\", \"good\", \"food\", \"served\", \"item\", \"enjoyed\", \"time\", \"even\", \"really\", \"great\", \"well\", \"veg\", \"place\", \"ambience\", \"like\", \"chocolate\", \"cake\", \"cream\", \"ice\", \"brownie\", \"pastry\", \"bakery\", \"fruit\", \"waffle\", \"cupcake\", \"cup\", \"mango\", \"velvet\", \"melt\", \"croissant\", \"pancake\", \"biscuit\", \"choco\", \"classic\", \"stone\", \"dlf\", \"blueberry\", \"cooky\", \"product\", \"gulab\", \"hazelnut\", \"caramel\", \"cheesecake\", \"blend\", \"labonel\", \"murg\", \"red\", \"coffee\", \"banana\", \"cheese\", \"love\", \"fresh\", \"try\", \"box\", \"outlet\", \"tried\", \"soft\", \"dessert\", \"like\", \"taste\", \"hot\", \"one\", \"amazing\", \"ordered\"], \"Freq\": [1855.0, 5282.0, 4353.0, 2381.0, 1586.0, 926.0, 1058.0, 323.0, 881.0, 299.0, 431.0, 518.0, 512.0, 489.0, 780.0, 1491.0, 5024.0, 1683.0, 431.0, 508.0, 214.0, 501.0, 529.0, 1481.0, 923.0, 984.0, 695.0, 355.0, 675.0, 1060.0, 349.82038603567725, 230.39637493619202, 170.82257983497976, 160.58611730734577, 149.1830230402505, 135.64121744667656, 134.28365229803313, 121.8798776001173, 113.00441164120792, 112.59742648726183, 111.59570726425787, 88.17003245709883, 83.92947841196161, 80.01811931267704, 80.82424759105369, 66.21134082278472, 63.61764277732855, 64.07591190931174, 63.13146674877942, 62.225750655838276, 61.477918202736575, 60.91876702330466, 60.86033922033428, 58.12882665943406, 57.02715349019442, 55.35396155425758, 48.4188614749756, 47.76995269061622, 47.36609668525532, 48.41346316149801, 88.80020466605214, 727.0276935466707, 3799.131806372821, 65.97245693671135, 223.67760332909992, 931.4710548669786, 858.8833904979826, 1259.104134098442, 585.0225541998083, 972.3964016039278, 371.48781992555735, 148.9466382157003, 1157.7428117774514, 132.47176883357938, 115.57256987392589, 323.45716871301664, 247.25985477117914, 560.517446593762, 492.3625298532094, 423.7191423751453, 358.00589814694854, 2824.1063409584067, 617.1638061165356, 1312.9088009713564, 2429.9603859288613, 324.2644975626872, 643.2026818666594, 232.61511583424146, 648.1104129636105, 358.79991002141566, 276.05691109137, 457.85708910337866, 646.3606782216693, 409.84741808706633, 578.989044846149, 473.6097084185862, 368.8535451247739, 380.5199646956672, 488.64274468785067, 430.53670276265694, 1851.2576387722777, 326.8988384253463, 290.2370307551536, 215.25492069565496, 193.7065986266841, 191.27876390483686, 169.782756522804, 154.03241813429867, 167.1388069047925, 137.92633987461505, 127.47658405513573, 121.27544151810594, 114.55820322167493, 110.25140474290431, 110.72131627350562, 105.1520550038205, 99.74330125913205, 138.98892373535287, 96.69009482001255, 93.75686556251044, 79.31849937154352, 75.23340468716908, 68.9506923970689, 67.6369980390288, 66.11335173655685, 64.73086843923245, 63.99697894795777, 60.330932487795245, 215.84175501000271, 466.0473923586478, 219.57403424669232, 745.0594026262145, 213.10375809868222, 238.27778041480443, 1136.19328973428, 319.1840576129109, 162.8483093791982, 478.19722386683776, 1006.9764029206017, 171.511123301014, 281.80502966535613, 2024.599613648149, 172.81541617908263, 220.67019482161393, 206.45689009646156, 392.9990627497771, 358.0948552615306, 669.6853548314078, 265.07102352564306, 224.40983927302773, 212.41218609847724, 200.08273000060208, 233.5427055310204, 210.0632891485563, 213.09972889298015, 206.0395423703551, 430.3575138710571, 114.40396310834551, 87.37578671636645, 72.36764685515982, 65.3150460215996, 59.82071220261328, 49.09416422651261, 45.144551272582376, 40.86744263269051, 39.57968699538928, 37.35855604512906, 36.6183125578444, 32.877702636798006, 30.65712235809634, 27.91822293843347, 27.039634810268176, 26.132853039950085, 26.106860229918517, 25.27179555012194, 25.467185685420237, 25.299623932015358, 25.201496856039128, 24.854809246499727, 24.71357589757793, 24.21247219574527, 24.551227909905897, 23.80990347474703, 23.308454907897904, 23.213372285454156, 23.095421033369963, 122.91480897702584, 112.2488979122079, 139.66893737677074, 316.46688790206395, 452.8512863632769, 59.226176038899546, 57.824448075994454, 132.868199252012, 723.7349398589066, 159.18126651242278, 292.9050869949711, 382.9477853399821, 91.48235775150165, 75.97729335914582, 139.13805291206432, 223.8760894889207, 101.06100954149599, 257.52588185775, 155.01127739651722, 124.6194137135879, 73.84148868876667, 267.4348253360975, 321.5544552882386, 434.6077341643424, 186.02587088531308, 124.03717773546154, 193.30925687118443, 427.21317556348475, 143.81151528620603, 773.8473124842035, 398.80326967132976, 189.65628345480684, 209.5264415649658, 240.74822105591358, 194.38499839610319, 192.60227617097203, 209.8384072005084, 143.03671854920682, 135.49001885269683, 137.99960825807707, 66.70343108917851, 65.44324133835347, 42.60876732343785, 38.98499505260318, 36.365114256919526, 33.99659540867286, 33.82332000353556, 33.20039994409535, 32.39580586550343, 28.830405676071774, 28.28876534625959, 30.894836420899555, 25.956034877731472, 24.48114912865235, 25.87834598409532, 23.54772031107938, 21.706531582766058, 21.498756728060993, 24.371728900067467, 18.881668043036413, 18.355078372338625, 18.50346988395323, 17.823751197735568, 17.679289894679133, 17.226541181196612, 16.50584411460007, 16.213220976312282, 18.246384880966417, 16.367044162990492, 130.00074084670723, 263.96003300288066, 269.73891019784725, 392.3593878334231, 202.8937447841627, 42.74536306736936, 153.96787594364622, 177.35829707024715, 118.15127688201068, 71.10691697308812, 111.59733444972568, 288.87562872247554, 227.29360389916985, 189.2454965219113, 358.95566601405324, 900.3564879225786, 57.395490565414036, 360.2048312984822, 202.02407344497914, 415.02133032044276, 159.1997942579258, 213.44583199198183, 59.48438698706665, 827.9108798676735, 756.5638242378762, 170.03705040559421, 161.48207819427594, 96.10012959819905, 264.70193571286217, 160.77767786687306, 225.40826931319222, 228.91584590213608, 151.30783948895652, 143.74024262122947, 186.5367275379037, 151.73675156466385, 131.9500968675147, 322.9462734566316, 299.09441290034545, 213.5750620653888, 180.15634586245488, 129.86549866981593, 67.96471921538368, 65.71975673931564, 67.14376742056888, 52.08826345459883, 47.17620592507004, 44.250678876709536, 41.413835941870666, 40.987459595417526, 41.388615334705165, 31.69224262213045, 30.205941017010954, 28.782264536172526, 28.651419311700483, 28.500974385315384, 28.16110696864959, 28.39772662440723, 27.263859523965397, 27.10815382208519, 27.45720886912004, 27.041247475248955, 23.6013384513765, 23.464829106081133, 22.856951683489587, 22.95175656236684, 22.18606307751712, 37.08928545533967, 51.777514689591904, 89.69009710472612, 31.754438471740773, 72.25563358257983, 84.60661492966908, 54.86786592528827, 89.07494362051743, 44.62670908308761, 44.54868192934496, 61.42162249074449, 41.19007724000688, 49.59941534478923, 65.66569694118297, 70.00128468451669, 44.95434937423245, 57.5967217916125, 52.0061653940793, 50.93908075583717], \"Total\": [1855.0, 5282.0, 4353.0, 2381.0, 1586.0, 926.0, 1058.0, 323.0, 881.0, 299.0, 431.0, 518.0, 512.0, 489.0, 780.0, 1491.0, 5024.0, 1683.0, 431.0, 508.0, 214.0, 501.0, 529.0, 1481.0, 923.0, 984.0, 695.0, 355.0, 675.0, 1060.0, 350.5643020983329, 231.13513534347692, 171.56850093848323, 161.3294049081692, 149.93036070118055, 136.38383370050158, 135.08655670686892, 122.61860847070905, 113.74875925176856, 113.34248983963809, 112.34185937152654, 88.9150469704788, 84.6760542736444, 80.75787301104468, 81.57944556143234, 66.95783167320299, 64.35481192275644, 64.819471758505, 63.87444405436687, 62.972034346111855, 62.22163341026272, 61.65958798429676, 61.60386589672839, 58.87311117397858, 57.784675031473625, 56.098920634157174, 49.15956707209445, 48.50897596697386, 48.122748063935084, 49.19297075912336, 90.29363472425368, 780.6602085623475, 4353.089545780748, 67.48038533797566, 238.9886539972863, 1060.084879821046, 984.7531463156064, 1491.3585981180652, 677.3544710465178, 1170.3624182317592, 424.36226050553677, 160.53921764540993, 1481.664992511412, 142.09149877493974, 123.03929725804107, 377.19154187536117, 283.0308745132317, 702.1085077119955, 611.9590755793708, 529.3154522247011, 440.1468895770802, 5024.3797858131875, 923.3853797326487, 2381.4738770048075, 5282.838737639876, 428.4966296278029, 1058.779375592671, 289.73321386406656, 1167.5803360690575, 524.5274266815572, 365.5539456775188, 751.7918155873026, 1246.9002675990753, 665.9091140642736, 1476.132214230278, 1068.033301335407, 1002.8898417969722, 1683.8974561602545, 489.4579298711578, 431.28599506502434, 1855.3065056378362, 327.6500685462846, 290.98814249485304, 216.00329571374195, 194.45694887540097, 192.02862812775868, 170.53404857956298, 154.78284494579822, 168.0019034472142, 138.73322213966054, 128.22530739788704, 122.02922592097896, 115.30694553731787, 111.00202297575639, 111.47527508154623, 105.90034774031102, 100.49209984188084, 140.05447883334386, 97.43917732351792, 94.50795386836694, 80.06419279512983, 75.98231838229354, 69.70134458811823, 68.3854428222756, 66.8633945258483, 65.47905041622836, 64.74783992337835, 61.07826943798528, 222.80432414464096, 508.63607208587973, 238.98683187248236, 881.1125944753169, 233.2917999009377, 264.34472306518416, 1586.322549659375, 382.7306614394735, 182.1380226120939, 675.7988616604667, 1683.8974561602545, 197.67510251912253, 374.4905515885148, 5282.838737639876, 208.5765866170525, 304.7980946200662, 279.40040017723385, 1068.033301335407, 921.8867403478619, 5024.3797858131875, 700.1174951842806, 581.3296505817037, 516.2118375758434, 413.50946070936567, 1167.5803360690575, 665.9091140642736, 1246.9002675990753, 923.3853797326487, 431.10087603654694, 115.14698102854105, 88.12981977084546, 73.13314094834918, 66.05975583605206, 60.56828551860559, 49.8520835989358, 45.89427272354367, 41.61971505715587, 40.34747818630247, 38.113583567343646, 37.360173286211165, 33.62847451288055, 31.397479875438513, 28.66268499502608, 27.787665671759093, 26.886519768516127, 26.86984160131303, 26.01849003028675, 26.220194296570668, 26.048161892882522, 25.94843702246164, 25.600604919940917, 25.462031015747858, 24.954984154740426, 25.308203283030814, 24.555565244250065, 24.053354635733424, 23.972442413434436, 23.86152797105065, 127.43030688153968, 116.86178958507354, 150.66846374358323, 355.2038627579143, 518.279621560304, 63.096632138024276, 62.27529139812382, 150.3168041469639, 926.8256959025791, 185.02362107510004, 359.34805181073864, 501.55626931374394, 106.39238152837412, 87.01504598949202, 172.91726624650516, 299.0047676136471, 123.6232676486563, 366.15344793440437, 204.27719524173577, 163.87395932839092, 87.01664794910005, 437.39847930924725, 570.9450607925137, 1002.8898417969722, 317.65641751746205, 182.20088337499075, 383.3161815403766, 1476.132214230278, 249.82259577384292, 5024.3797858131875, 1586.322549659375, 439.3653727103388, 700.1174951842806, 1246.9002675990753, 838.7708746328784, 1683.8974561602545, 4353.089545780748, 2381.4738770048075, 881.1125944753169, 138.75022678600118, 67.4496826378513, 66.19103254350829, 43.365564466209314, 39.73139587039966, 37.12401424151731, 34.74066394607289, 34.57287193373953, 33.95579186486697, 33.1419313310835, 29.57715374023308, 29.041791290480464, 31.735070848026716, 26.6983427304194, 25.2280536132907, 26.668579977913396, 24.314083116252167, 22.453206682332535, 22.243618496525404, 25.236237523774346, 19.632629426953496, 19.102289216818566, 19.26317266515523, 18.566842443354986, 18.430441420966805, 17.989248697211035, 17.261054506282278, 16.95734956020897, 19.089410872835888, 17.127596325460388, 144.922897341476, 308.75338859427563, 328.80808784793896, 512.8324915857031, 261.0109465539832, 50.484040490247025, 222.5247050535483, 263.4621758136387, 164.98377637593404, 91.93285715191246, 159.0312570644412, 515.5803467579386, 392.2679051851689, 313.12121361303315, 695.8040228765841, 2381.4738770048075, 74.4900282328847, 838.7708746328784, 400.02028857234285, 1058.779375592671, 316.26922322730775, 483.6938519842737, 81.37798056159409, 5282.838737639876, 5024.3797858131875, 475.49508804581416, 497.2915824767927, 204.18941558538893, 1476.132214230278, 570.9450607925137, 1167.5803360690575, 1481.664992511412, 691.7063135532189, 675.7988616604667, 4353.089545780748, 1491.3585981180652, 921.8867403478619, 323.7032467822784, 299.8505054220263, 214.33145561658316, 180.9149229460667, 130.62102355331464, 68.72073100277129, 66.4753411589229, 67.92219161000124, 52.84855444478159, 47.92996263435707, 45.011780656772245, 42.170700283912886, 41.74044896181792, 42.15176461979892, 32.448409955492224, 30.96363627775449, 29.538840614311397, 29.40678123551678, 29.26735084535419, 28.9188457232085, 29.167029314907797, 28.019484076384458, 27.86209726595025, 28.224079684831256, 27.802079782106937, 24.358597702019978, 24.22089228516303, 23.615618463901175, 23.723586993864416, 22.940868067595446, 45.450643217822005, 87.32375133483896, 222.33850624734913, 42.71482627316669, 279.40040017723385, 529.3154522247011, 199.339696468039, 923.3853797326487, 127.03502380407127, 131.17857984848084, 413.50946070936567, 120.18413970984207, 251.56471041310786, 921.8867403478619, 1683.8974561602545, 215.40209802386397, 1246.9002675990753, 780.6602085623475, 1586.322549659375], \"Category\": [\"Default\", \"Default\", \"Default\", \"Default\", \"Default\", \"Default\", \"Default\", \"Default\", \"Default\", \"Default\", \"Default\", \"Default\", \"Default\", \"Default\", \"Default\", \"Default\", \"Default\", \"Default\", \"Default\", \"Default\", \"Default\", \"Default\", \"Default\", \"Default\", \"Default\", \"Default\", \"Default\", \"Default\", \"Default\", \"Default\", \"Topic1\", \"Topic1\", \"Topic1\", \"Topic1\", \"Topic1\", \"Topic1\", \"Topic1\", \"Topic1\", \"Topic1\", \"Topic1\", \"Topic1\", \"Topic1\", \"Topic1\", \"Topic1\", \"Topic1\", \"Topic1\", \"Topic1\", \"Topic1\", \"Topic1\", \"Topic1\", \"Topic1\", \"Topic1\", \"Topic1\", \"Topic1\", \"Topic1\", \"Topic1\", \"Topic1\", \"Topic1\", \"Topic1\", \"Topic1\", \"Topic1\", \"Topic1\", \"Topic1\", \"Topic1\", \"Topic1\", \"Topic1\", \"Topic1\", \"Topic1\", \"Topic1\", \"Topic1\", \"Topic1\", \"Topic1\", \"Topic1\", \"Topic1\", \"Topic1\", \"Topic1\", \"Topic1\", \"Topic1\", \"Topic1\", \"Topic1\", \"Topic1\", \"Topic1\", \"Topic1\", \"Topic1\", \"Topic1\", \"Topic1\", \"Topic1\", \"Topic1\", \"Topic1\", \"Topic1\", \"Topic1\", \"Topic1\", \"Topic1\", \"Topic1\", \"Topic1\", \"Topic1\", \"Topic1\", \"Topic1\", \"Topic2\", \"Topic2\", \"Topic2\", \"Topic2\", \"Topic2\", \"Topic2\", \"Topic2\", \"Topic2\", \"Topic2\", \"Topic2\", \"Topic2\", \"Topic2\", \"Topic2\", \"Topic2\", \"Topic2\", \"Topic2\", \"Topic2\", \"Topic2\", \"Topic2\", \"Topic2\", \"Topic2\", \"Topic2\", \"Topic2\", \"Topic2\", \"Topic2\", \"Topic2\", \"Topic2\", \"Topic2\", \"Topic2\", \"Topic2\", \"Topic2\", \"Topic2\", \"Topic2\", \"Topic2\", \"Topic2\", \"Topic2\", \"Topic2\", \"Topic2\", \"Topic2\", \"Topic2\", \"Topic2\", \"Topic2\", \"Topic2\", \"Topic2\", \"Topic2\", \"Topic2\", \"Topic2\", \"Topic2\", \"Topic2\", \"Topic2\", \"Topic2\", \"Topic2\", \"Topic2\", \"Topic2\", \"Topic2\", \"Topic2\", \"Topic2\", \"Topic2\", \"Topic3\", \"Topic3\", \"Topic3\", \"Topic3\", \"Topic3\", \"Topic3\", \"Topic3\", \"Topic3\", \"Topic3\", \"Topic3\", \"Topic3\", \"Topic3\", \"Topic3\", \"Topic3\", \"Topic3\", \"Topic3\", \"Topic3\", \"Topic3\", \"Topic3\", \"Topic3\", \"Topic3\", \"Topic3\", \"Topic3\", \"Topic3\", \"Topic3\", \"Topic3\", \"Topic3\", \"Topic3\", \"Topic3\", \"Topic3\", \"Topic3\", \"Topic3\", \"Topic3\", \"Topic3\", \"Topic3\", \"Topic3\", \"Topic3\", \"Topic3\", \"Topic3\", \"Topic3\", \"Topic3\", \"Topic3\", \"Topic3\", \"Topic3\", \"Topic3\", \"Topic3\", \"Topic3\", \"Topic3\", \"Topic3\", \"Topic3\", \"Topic3\", \"Topic3\", \"Topic3\", \"Topic3\", \"Topic3\", \"Topic3\", \"Topic3\", \"Topic3\", \"Topic3\", \"Topic3\", \"Topic3\", \"Topic3\", \"Topic3\", \"Topic3\", \"Topic3\", \"Topic3\", \"Topic3\", \"Topic3\", \"Topic3\", \"Topic4\", \"Topic4\", \"Topic4\", \"Topic4\", \"Topic4\", \"Topic4\", \"Topic4\", \"Topic4\", \"Topic4\", \"Topic4\", \"Topic4\", \"Topic4\", \"Topic4\", \"Topic4\", \"Topic4\", \"Topic4\", \"Topic4\", \"Topic4\", \"Topic4\", \"Topic4\", \"Topic4\", \"Topic4\", \"Topic4\", \"Topic4\", \"Topic4\", \"Topic4\", \"Topic4\", \"Topic4\", \"Topic4\", \"Topic4\", \"Topic4\", \"Topic4\", \"Topic4\", \"Topic4\", \"Topic4\", \"Topic4\", \"Topic4\", \"Topic4\", \"Topic4\", \"Topic4\", \"Topic4\", \"Topic4\", \"Topic4\", \"Topic4\", \"Topic4\", \"Topic4\", \"Topic4\", \"Topic4\", \"Topic4\", \"Topic4\", \"Topic4\", \"Topic4\", \"Topic4\", \"Topic4\", \"Topic4\", \"Topic4\", \"Topic4\", \"Topic4\", \"Topic4\", \"Topic4\", \"Topic4\", \"Topic4\", \"Topic4\", \"Topic4\", \"Topic4\", \"Topic4\", \"Topic4\", \"Topic5\", \"Topic5\", \"Topic5\", \"Topic5\", \"Topic5\", \"Topic5\", \"Topic5\", \"Topic5\", \"Topic5\", \"Topic5\", \"Topic5\", \"Topic5\", \"Topic5\", \"Topic5\", \"Topic5\", \"Topic5\", \"Topic5\", \"Topic5\", \"Topic5\", \"Topic5\", \"Topic5\", \"Topic5\", \"Topic5\", \"Topic5\", \"Topic5\", \"Topic5\", \"Topic5\", \"Topic5\", \"Topic5\", \"Topic5\", \"Topic5\", \"Topic5\", \"Topic5\", \"Topic5\", \"Topic5\", \"Topic5\", \"Topic5\", \"Topic5\", \"Topic5\", \"Topic5\", \"Topic5\", \"Topic5\", \"Topic5\", \"Topic5\", \"Topic5\", \"Topic5\", \"Topic5\", \"Topic5\", \"Topic5\"], \"logprob\": [30.0, 29.0, 28.0, 27.0, 26.0, 25.0, 24.0, 23.0, 22.0, 21.0, 20.0, 19.0, 18.0, 17.0, 16.0, 15.0, 14.0, 13.0, 12.0, 11.0, 10.0, 9.0, 8.0, 7.0, 6.0, 5.0, 4.0, 3.0, 2.0, 1.0, -5.3427, -5.7603, -6.0595, -6.1213, -6.195, -6.2901, -6.3002, -6.3971, -6.4727, -6.4763, -6.4853, -6.7209, -6.7702, -6.8179, -6.8079, -7.0073, -7.0472, -7.0401, -7.0549, -7.0694, -7.0815, -7.0906, -7.0916, -7.1375, -7.1566, -7.1864, -7.3202, -7.3337, -7.3422, -7.3204, -6.7138, -4.6112, -2.9576, -7.0109, -5.7899, -4.3634, -4.4445, -4.062, -4.8285, -4.3204, -5.2826, -6.1966, -4.1459, -6.3138, -6.4502, -5.4211, -5.6897, -4.8713, -5.0009, -5.1511, -5.3196, -3.2542, -4.775, -4.0201, -3.4045, -5.4186, -4.7337, -5.7508, -4.7261, -5.3174, -5.5795, -5.0736, -4.7288, -5.1844, -4.8389, -5.0398, -5.2897, -5.2586, -4.556, -4.6826, -3.224, -4.958, -5.0769, -5.3758, -5.4813, -5.4939, -5.6131, -5.7105, -5.6288, -5.8209, -5.8997, -5.9496, -6.0065, -6.0449, -6.0406, -6.0922, -6.145, -5.8132, -6.1761, -6.2069, -6.3742, -6.427, -6.5142, -6.5335, -6.5563, -6.5774, -6.5888, -6.6478, -5.3731, -4.6033, -5.3559, -4.1342, -5.3859, -5.2742, -3.7122, -4.9819, -5.6548, -4.5776, -3.8329, -5.603, -5.1064, -3.1345, -5.5954, -5.351, -5.4175, -4.7738, -4.8668, -4.2408, -5.1676, -5.3342, -5.3891, -5.4489, -5.2943, -5.4002, -5.3859, -5.4196, -4.3043, -5.6292, -5.8987, -6.0871, -6.1897, -6.2775, -6.4752, -6.559, -6.6586, -6.6906, -6.7483, -6.7684, -6.8761, -6.946, -7.0396, -7.0716, -7.1057, -7.1067, -7.1392, -7.1315, -7.1381, -7.142, -7.1558, -7.1615, -7.182, -7.1681, -7.1988, -7.2201, -7.2242, -7.2293, -5.5574, -5.6482, -5.4296, -4.6117, -4.2533, -6.2875, -6.3115, -5.4795, -3.7845, -5.2989, -4.6891, -4.421, -5.8528, -6.0385, -5.4334, -4.9578, -5.7532, -4.8178, -5.3254, -5.5436, -6.067, -4.78, -4.5957, -4.2945, -5.143, -5.5483, -5.1046, -4.3116, -5.4004, -3.7175, -4.3804, -5.1237, -5.0241, -4.8851, -5.0991, -5.1083, -5.0226, -5.4058, -5.46, -5.3631, -6.0901, -6.1091, -6.5383, -6.6271, -6.6967, -6.7641, -6.7692, -6.7878, -6.8123, -6.9289, -6.9479, -6.8597, -7.0339, -7.0924, -7.0369, -7.1313, -7.2127, -7.2223, -7.0969, -7.3521, -7.3804, -7.3724, -7.4098, -7.4179, -7.4439, -7.4866, -7.5045, -7.3864, -7.4951, -5.4228, -4.7145, -4.6929, -4.3181, -4.9776, -6.5351, -5.2536, -5.1122, -5.5184, -6.0261, -5.5754, -4.6243, -4.8641, -5.0473, -4.4071, -3.4875, -6.2404, -4.4037, -4.9819, -4.262, -5.2202, -4.9269, -6.2046, -3.5714, -3.6615, -5.1543, -5.2059, -5.7249, -4.7117, -5.2103, -4.8724, -4.857, -5.271, -5.3223, -5.0617, -5.2682, -5.4079, -3.6459, -3.7226, -4.0594, -4.2295, -4.5569, -5.2044, -5.238, -5.2165, -5.4704, -5.5695, -5.6335, -5.6997, -5.7101, -5.7003, -5.9673, -6.0153, -6.0636, -6.0681, -6.0734, -6.0854, -6.077, -6.1178, -6.1235, -6.1107, -6.126, -6.262, -6.2678, -6.2941, -6.29, -6.3239, -5.81, -5.4764, -4.927, -5.9653, -5.1431, -4.9853, -5.4184, -4.9339, -5.625, -5.6268, -5.3056, -5.7052, -5.5194, -5.2388, -5.1748, -5.6177, -5.3699, -5.472, -5.4927], \"loglift\": [30.0, 29.0, 28.0, 27.0, 26.0, 25.0, 24.0, 23.0, 22.0, 21.0, 20.0, 19.0, 18.0, 17.0, 16.0, 15.0, 14.0, 13.0, 12.0, 11.0, 10.0, 9.0, 8.0, 7.0, 6.0, 5.0, 4.0, 3.0, 2.0, 1.0, 0.9699, 0.9688, 0.9677, 0.9674, 0.967, 0.9666, 0.9661, 0.966, 0.9655, 0.9654, 0.9654, 0.9636, 0.9632, 0.9628, 0.9627, 0.9608, 0.9605, 0.9605, 0.9603, 0.9601, 0.96, 0.9599, 0.9599, 0.9593, 0.9588, 0.9587, 0.9569, 0.9567, 0.9562, 0.9561, 0.9554, 0.9009, 0.8359, 0.9494, 0.9058, 0.8427, 0.8353, 0.8027, 0.8255, 0.7867, 0.839, 0.8971, 0.7253, 0.9019, 0.9094, 0.8183, 0.8369, 0.7468, 0.7546, 0.7495, 0.7655, 0.3959, 0.5691, 0.3766, 0.1954, 0.6933, 0.4736, 0.7525, 0.3834, 0.5923, 0.6912, 0.4761, 0.315, 0.4867, 0.0361, 0.1588, -0.0282, -0.5153, 1.4229, 1.4228, 1.4224, 1.4222, 1.422, 1.4211, 1.4207, 1.4206, 1.4201, 1.4197, 1.4194, 1.4187, 1.4187, 1.4183, 1.418, 1.4178, 1.4178, 1.4175, 1.4171, 1.4169, 1.4168, 1.4166, 1.4152, 1.4146, 1.4137, 1.4135, 1.4133, 1.4131, 1.4129, 1.4122, 1.3928, 1.3371, 1.3398, 1.2568, 1.334, 1.3207, 1.0908, 1.243, 1.3126, 1.0787, 0.9104, 1.2826, 1.1402, 0.4655, 1.2365, 1.1016, 1.122, 0.4248, 0.4789, -0.5907, 0.4533, 0.4727, 0.5366, 0.6986, -0.1848, 0.2708, -0.3421, -0.0754, 1.8015, 1.7968, 1.7947, 1.7928, 1.7919, 1.7909, 1.788, 1.7868, 1.785, 1.7841, 1.7833, 1.7832, 1.7807, 1.7794, 1.777, 1.776, 1.7748, 1.7745, 1.7742, 1.7741, 1.7741, 1.7741, 1.7737, 1.7734, 1.7731, 1.7729, 1.7724, 1.7718, 1.7711, 1.7706, 1.7672, 1.763, 1.7275, 1.6878, 1.6683, 1.74, 1.7291, 1.6799, 1.5559, 1.6528, 1.5988, 1.5335, 1.6523, 1.6676, 1.5859, 1.5139, 1.6018, 1.4513, 1.5273, 1.5294, 1.6391, 1.3113, 1.2291, 0.9671, 1.2682, 1.4187, 1.1187, 0.5634, 1.251, -0.0674, 0.4226, 0.9632, 0.5969, 0.1586, 0.3412, -0.365, -1.229, -1.0091, -0.069, 1.8764, 1.8707, 1.8705, 1.8642, 1.8629, 1.8612, 1.8602, 1.8599, 1.8594, 1.8591, 1.8563, 1.8556, 1.855, 1.8537, 1.8518, 1.8518, 1.8498, 1.848, 1.8478, 1.847, 1.8428, 1.8419, 1.8416, 1.841, 1.8402, 1.8385, 1.8371, 1.837, 1.8367, 1.8364, 1.7732, 1.7251, 1.6838, 1.6141, 1.63, 1.7155, 1.5136, 1.4861, 1.548, 1.625, 1.5276, 1.3026, 1.3361, 1.3783, 1.22, 0.9092, 1.6211, 1.0366, 1.1987, 0.9453, 1.1954, 1.0638, 1.5685, 0.0285, -0.0114, 0.8535, 0.7571, 1.1282, 0.1633, 0.6146, 0.2371, 0.0143, 0.362, 0.334, -1.2682, -0.4034, -0.0621, 2.7465, 2.7463, 2.7453, 2.7446, 2.743, 2.7378, 2.7374, 2.7373, 2.7343, 2.733, 2.7318, 2.7307, 2.7306, 2.7306, 2.7252, 2.724, 2.7229, 2.7228, 2.7223, 2.7223, 2.7221, 2.7215, 2.7214, 2.7213, 2.7211, 2.7172, 2.7171, 2.7162, 2.7157, 2.7154, 2.5455, 2.2262, 1.841, 2.4523, 1.3964, 0.9153, 1.4587, 0.4103, 1.7027, 1.6688, 0.8419, 1.678, 1.1251, 0.107, -0.4315, 1.182, -0.3261, 0.04, -0.6897]}, \"token.table\": {\"Topic\": [1, 2, 4, 5, 3, 4, 3, 3, 4, 1, 2, 3, 4, 3, 3, 2, 1, 2, 3, 4, 5, 1, 2, 5, 1, 2, 4, 1, 2, 4, 4, 1, 3, 1, 1, 4, 4, 1, 2, 4, 5, 2, 3, 4, 5, 2, 5, 1, 4, 4, 1, 2, 4, 5, 3, 4, 2, 2, 3, 5, 5, 5, 2, 3, 5, 4, 5, 1, 1, 4, 1, 2, 5, 3, 2, 1, 5, 3, 4, 4, 5, 4, 4, 1, 3, 3, 2, 5, 5, 2, 3, 2, 2, 5, 5, 5, 3, 1, 1, 5, 2, 3, 4, 3, 2, 3, 5, 1, 2, 1, 2, 4, 1, 5, 5, 5, 5, 1, 2, 3, 3, 4, 1, 4, 3, 2, 3, 3, 2, 3, 5, 4, 1, 4, 5, 1, 2, 3, 4, 1, 2, 4, 3, 1, 2, 3, 4, 5, 3, 1, 2, 3, 4, 1, 3, 4, 2, 1, 1, 2, 4, 4, 1, 2, 3, 4, 1, 2, 3, 4, 5, 1, 2, 4, 5, 1, 2, 5, 1, 2, 3, 4, 1, 4, 4, 1, 2, 3, 4, 1, 2, 3, 4, 5, 2, 1, 4, 1, 4, 5, 2, 1, 2, 3, 4, 5, 1, 2, 3, 4, 5, 1, 3, 1, 2, 4, 1, 2, 3, 4, 5, 4, 2, 1, 2, 4, 5, 4, 5, 3, 4, 1, 1, 5, 3, 4, 1, 2, 4, 5, 1, 3, 4, 1, 4, 1, 2, 3, 5, 5, 1, 2, 3, 1, 1, 2, 3, 4, 5, 2, 3, 2, 3, 4, 5, 5, 1, 3, 1, 2, 3, 4, 4, 1, 2, 3, 4, 5, 4, 3, 1, 3, 1, 1, 4, 1, 2, 5, 1, 2, 5, 1, 2, 4, 1, 3, 1, 2, 4, 3, 4, 3, 4, 2, 2, 5, 2, 5, 4, 4, 3, 1, 2, 3, 1, 4, 4, 5, 1, 1, 2, 5, 2, 3, 2, 1, 2, 3, 4, 1, 2, 4, 1, 2, 3, 4, 2, 3, 1, 2, 1, 2, 3, 4, 5, 2, 2, 3, 4, 2, 3, 5, 1, 1, 2, 3, 4, 5, 5, 2, 3, 2, 2, 5, 3, 4, 2, 3, 5, 1, 2, 3, 4, 2, 3, 3, 5, 2, 3, 1, 2, 3, 4, 1, 2, 4, 4, 1, 2, 3, 4, 5, 2, 3, 2, 5, 3, 1, 2, 3, 4, 2, 1, 2, 4, 4, 1, 2, 5, 1, 4, 1, 2, 3, 4, 1, 2, 3, 4, 1, 4, 1, 1, 3, 3, 1, 2, 5, 2, 3, 4, 1, 2, 2, 3, 3, 1, 4, 1, 4, 4, 1, 2, 4, 1, 4, 5, 4, 1, 3, 4, 2, 1, 2, 3, 4, 5, 1, 2, 3, 5, 1, 2, 4, 5, 1, 4, 1, 4, 5, 1, 4, 2, 1, 2, 3, 4, 1, 2, 3, 5, 1, 2, 3, 5, 1, 2, 3, 4, 3, 4, 2, 3, 1, 2, 4, 5, 1, 1, 3, 4, 5, 3, 1, 1, 1, 2, 3, 4, 5, 1, 2, 3, 4, 1, 5, 3, 4, 3, 1, 2, 3, 4, 5, 2, 3, 2, 3], \"Freq\": [0.6156996372937866, 0.31535835080901264, 0.06006825729695479, 0.009010238594543219, 0.9291924568784382, 0.0663708897770313, 0.9597606196862234, 0.9350736798588097, 0.04754611931485474, 0.05603976676582846, 0.3202272386618769, 0.5764090295913784, 0.048034085799281534, 0.9608551445875153, 0.9617317266635483, 0.9867082554887813, 0.4438063863807784, 0.3679660545308986, 0.07303143067025468, 0.08052183381592182, 0.03557941494191894, 0.9312630412389439, 0.0012809670443451773, 0.06661028630594922, 0.8742530486995543, 0.014138863321286593, 0.10839795212986388, 0.844196695274177, 0.053642363480487815, 0.10192049061292685, 0.9450088931526972, 0.928978870221337, 0.06333946842418206, 0.99289716230057, 0.9895075920110047, 0.9718518752656187, 0.980486501666048, 0.7990217948336298, 0.11251822066284627, 0.07975975135594165, 0.008545687645279463, 0.1953918353649309, 0.7636231933139647, 0.03987588476835324, 0.9928493611219459, 0.23411074965045486, 0.7491543988814556, 0.9969782749600555, 0.9513219040947442, 0.9815914881826602, 0.8782315621341219, 0.0782956172471881, 0.010376527586976736, 0.03301622414038052, 0.8504119814324028, 0.1493966994408275, 0.9947148770254726, 0.8455219056806594, 0.15321537888173023, 0.9817582341383321, 0.9694992585205788, 0.9636151731557504, 0.36997670872631994, 0.2755145703281106, 0.3542330189932851, 0.9697227181789981, 0.9952456079701354, 0.9851696104288016, 0.23399453421711666, 0.7643821451092477, 0.06270728326216281, 0.8334843066929141, 0.10189933530101457, 0.9829077635793344, 0.9953551833066864, 0.9969569724638795, 0.9971635684894736, 0.8734121683872671, 0.11492265373516673, 0.9870822553846489, 0.9495934224557487, 0.9945929689386507, 0.965544212868111, 0.9766690783651129, 0.9805145027805416, 0.9670273513958384, 0.7372931458556491, 0.2576946917553725, 0.973931723835977, 0.9976788171524491, 0.0016169834961952173, 0.9904441063721932, 0.9943636714720512, 0.9861670941726366, 0.9978274954321004, 0.9908652188314943, 0.9878220006539357, 0.9893027507017279, 0.5936893353648398, 0.4047881832032999, 0.992470938151156, 0.007140078691734935, 0.934164940366781, 0.967627587307008, 0.8701146366339241, 0.1315289567004769, 0.9690584216356245, 0.9934174292827996, 0.9968683756469089, 0.006477661699862815, 0.13603089569711913, 0.8550513443818917, 0.9804110200029754, 0.9984535372298498, 0.9861808342502056, 0.977521870008046, 0.9805974679877916, 0.013464729697312557, 0.969460538206504, 0.013464729697312557, 0.3928191213259922, 0.6036001132570125, 0.9845640313798776, 0.9677766328087992, 0.9906174408976621, 0.2398701428322178, 0.758772900795791, 0.9765394246808171, 0.37037165802641847, 0.6104273623028008, 0.01600371361842549, 0.9435436795821308, 0.40148715546843794, 0.40148715546843794, 0.19875601755863265, 0.0849974957566087, 0.2770288750585765, 0.5855383041010821, 0.05351694177267955, 0.3983947559432357, 0.09801775741460561, 0.5027362396426546, 0.9818541177857297, 0.4180072352353671, 0.385323541945359, 0.037844276441062044, 0.1582578832989867, 0.9599880638405878, 0.9773751799755391, 0.11576762331377667, 0.003858920777125889, 0.8740455560190139, 0.005788381165688834, 0.7550185226108304, 0.07659608200399728, 0.16687003579442267, 0.9870717503333979, 0.9937947144472306, 0.49463876327988865, 0.03428189448474476, 0.47015169579078525, 0.9694701753901156, 0.068307798207178, 0.08757410026561283, 0.5639772057105465, 0.2819886028552733, 0.18394355527824602, 0.013377713111145164, 0.7491519342241292, 0.03344428277786291, 0.020066569666717746, 0.3772931663377789, 0.025492781509309382, 0.578686140261323, 0.01784494705651657, 0.9427882195777005, 0.008127484651531902, 0.048764907909191406, 0.24917412647581164, 0.0894165525630903, 0.2312908159631936, 0.42919945230283346, 0.8726963106933153, 0.1236614205435872, 0.9766450834716782, 0.5620594223338434, 0.13334979212594728, 0.15404886433654208, 0.15066536214827175, 0.07524843403383538, 0.5367721627746924, 0.05518218495814595, 0.05518218495814595, 0.2759109247907297, 0.9966041829526765, 0.8039753304323498, 0.19445744780782445, 0.813364829963897, 0.1863014415001105, 0.9864228231135956, 0.994942301609249, 0.4233378676444412, 0.05690025102747866, 0.4324419078088378, 0.07966035143847013, 0.009104040164396586, 0.6844256024346089, 0.08007207605084561, 0.15061176209563817, 0.061007296038739514, 0.02478421401573793, 0.17796002660700683, 0.8169983039685313, 0.45997996923252854, 0.3833166410271071, 0.1567339154421949, 0.1147877447364305, 0.23740192661398127, 0.5035007894120701, 0.06522030950933551, 0.07826437141120261, 0.9786802017594538, 0.9951030992221763, 0.7815531890492992, 0.05736789384213336, 0.1545558551746887, 0.006074247583284708, 0.9933330651788872, 0.9711503675842573, 0.9652334912317355, 0.03138970703192636, 0.990615490691031, 0.9950888672040706, 0.9852783930172532, 0.9871800512722798, 0.9422954388185025, 0.046424803155316156, 0.6731596457520843, 0.06963720473297423, 0.2089116141989227, 0.17696527330426068, 0.7627813504493995, 0.06102250803595196, 0.13865768135877168, 0.8517543283467404, 0.8563288518986246, 0.005302345832189626, 0.10074457081160289, 0.03446524790923257, 0.9949428000124708, 0.937282989185518, 0.0627644858829588, 0.9562075788726546, 0.9920159922490056, 0.257394262260559, 0.16288230658676, 0.21114373076061482, 0.3237537204996094, 0.0462505314999442, 0.9899378614248743, 0.9534635677078008, 0.06361423725215944, 0.8038526343681965, 0.11566224954938079, 0.01734933743240712, 0.9589872508388448, 0.31832996045704787, 0.680567501666792, 0.05874647546294654, 0.7530230036614056, 0.12817412828279245, 0.05874647546294654, 0.9429311422917659, 0.2527425439616156, 0.3883340375032549, 0.1442693491283042, 0.14318461717997108, 0.07159230858998554, 0.9834300160299826, 0.9851100600687721, 0.92812212607827, 0.0685190831332951, 0.9897087500748596, 0.9856730241483324, 0.011074977799419464, 0.8010346159703773, 0.039673884281551705, 0.16058476971104263, 0.7561319683691097, 0.14935940115933033, 0.09334962572458144, 0.35498199480529496, 0.13999289935983464, 0.5049743869765464, 0.9757491621117004, 0.9716541259325857, 0.0030412877205820477, 0.17639468779375878, 0.8211476845571529, 0.2580550642210313, 0.7250118470971832, 0.09660309210498576, 0.8970287124034392, 0.9823461036485311, 0.9915657424423437, 0.9722390124889749, 0.9976501283289508, 0.972675767427826, 0.9510133979912925, 0.9749300495764264, 0.9707825015882846, 0.2867650177605607, 0.008193286221730305, 0.7046226150688063, 0.21755007534413331, 0.7723027674716733, 0.1760151107578398, 0.8140698872550091, 0.9983903035906531, 0.863654150088019, 0.09153257659052509, 0.0442899564147702, 0.8949257143696303, 0.1043164943130244, 0.9957364977911151, 0.125226781593074, 0.058439164743434524, 0.8153654890393484, 0.0027828173687349774, 0.8305119720680584, 0.07348151193194755, 0.09484241656332765, 0.8041880904593701, 0.017257255160072323, 0.13805804128057858, 0.04141741238417357, 0.9130196607443803, 0.08572954560980098, 0.997958184322587, 0.9884499633615063, 0.5180847392421227, 0.1708236059730219, 0.19327929126525012, 0.0713769996788683, 0.04651534810532991, 0.9870871867638349, 0.21471135390371973, 0.7811609056597643, 0.004315806108617482, 0.7161216993630514, 0.25152513912487456, 0.03214982981295389, 0.9901975973757767, 0.16008711196794678, 0.12959432873595692, 0.35829020297588093, 0.015246391615994932, 0.343043811359886, 0.968878452481797, 0.9993368783862754, 0.9638946855333039, 0.9940363565730135, 0.9914981606810315, 0.9895121749688283, 0.8847979489370107, 0.11309447467615925, 0.829431542657416, 0.16300966734307598, 0.00958880396135741, 0.8727134969420047, 0.03606633825214392, 0.04824159893598868, 0.042957995242999446, 0.13511788308289913, 0.8593497364072386, 0.9594349880306953, 0.9566299522074718, 0.9926839132030291, 0.9913878586240755, 0.25852803457276596, 0.3785078959214529, 0.2999496533717174, 0.06427492572251087, 0.08257377387286167, 0.9161756815417509, 0.9915701670044175, 0.9798155030261605, 0.5549939305946597, 0.20041447493696046, 0.030832996144147765, 0.19270622590092354, 0.02141180287788039, 0.13158836938212815, 0.8553244009838329, 0.4008073343733721, 0.5954851824975814, 0.9873403891963491, 0.3679367210847683, 0.0977176115618084, 0.4337465411161903, 0.10070896701778212, 0.9990644142362177, 0.9944866294818434, 0.9909729305025797, 0.982006134400073, 0.9738432180052986, 0.9856950016261307, 0.9205528115347658, 0.07950228826891159, 0.9966864492294709, 0.9641278569885615, 0.19348254548348934, 0.32597602771674833, 0.12408119764702033, 0.3575220949151433, 0.5513392410801361, 0.010497700706019348, 0.06004684803843067, 0.3779172254166965, 0.9919565889207859, 0.976837270931367, 0.986309954359484, 0.9764121789275748, 0.9845057803663941, 0.9903594321297193, 0.9864207070292212, 0.6490041047705104, 0.34114318327680676, 0.9003395159180542, 0.0037829391425128326, 0.09457347856282082, 0.9873576297943607, 0.9946252791688366, 0.998015967006603, 0.9768798702863644, 0.9634491656803588, 0.2955393855747181, 0.7042640677525197, 0.6073031028207072, 0.39196078953436003, 0.9440909986511563, 0.15904407628341666, 0.2792969144489268, 0.560533390803749, 0.22821846632748496, 0.7652030929803907, 0.9682267497118293, 0.9863380415194388, 0.2049630078140597, 0.11766394893029354, 0.671823192279418, 0.9973380134571466, 0.2262608085820047, 0.5980174127088681, 0.1146150552659499, 0.020191253259286508, 0.04157022729853105, 0.1115492537523285, 0.7250701493901354, 0.06889806849408525, 0.09514495172992726, 0.4281188146281709, 0.41068411177001013, 0.14141481207174877, 0.017434702858160806, 0.22221290243091102, 0.7777451585081885, 0.2666928892434918, 0.715221839334819, 0.018183606084783532, 0.3055840473247071, 0.6920579895294838, 0.994643360535418, 0.39224128734424835, 0.1388764488869964, 0.2892694813402315, 0.17952321441489777, 0.3313104366825846, 0.4836648710694666, 0.036274865330209995, 0.1475177856761873, 0.668193382245929, 0.22309211789734418, 0.011912685907139738, 0.09638445870322151, 0.30037193394765793, 0.02443216687612529, 0.15952767783822983, 0.5159498769722929, 0.9813112392999025, 0.9848760974488977, 0.06423093188642244, 0.9313485123531253, 0.0784257017979828, 0.7073110464044488, 0.21308115205489667, 0.9822606373377717, 0.9949550196464934, 0.8722998278440601, 0.014216760872895043, 0.11373408698316034, 0.9839436583706713, 0.9900389830606436, 0.9803664201129566, 0.9971856363757564, 0.44238428073341096, 0.2703459493370845, 0.031805405804362884, 0.21830073983903614, 0.03614250659586691, 0.3680013696055564, 0.15505675685627376, 0.03514619822075539, 0.4403611894718175, 0.9780619904500968, 0.014819121067425708, 0.9583970979536109, 0.03422846778405753, 0.9974463609383767, 0.6092112078158348, 0.15030756874058807, 0.1197139928022383, 0.08512995043714723, 0.037244353316251914, 0.995492805506149, 0.9839576180287106, 0.10698081857825552, 0.8896299650191775], \"Term\": [\"-\", \"-\", \"-\", \"-\", \"1\", \"1\", \"11\", \"15\", \"15\", \"2\", \"2\", \"2\", \"2\", \"40\", \"accept\", \"aloo\", \"also\", \"also\", \"also\", \"also\", \"also\", \"amazing\", \"amazing\", \"amazing\", \"ambiance\", \"ambiance\", \"ambiance\", \"ambience\", \"ambience\", \"ambience\", \"appreciated\", \"area\", \"area\", \"asian\", \"atmosphere\", \"attention\", \"attitude\", \"awesome\", \"awesome\", \"awesome\", \"awesome\", \"bad\", \"bad\", \"bad\", \"bakery\", \"banana\", \"banana\", \"beautiful\", \"behavior\", \"behaviour\", \"best\", \"best\", \"best\", \"best\", \"bill\", \"bill\", \"biriyani\", \"biryani\", \"biryani\", \"biscuit\", \"blend\", \"blueberry\", \"box\", \"box\", \"box\", \"brand\", \"brownie\", \"brunch\", \"buffet\", \"buffet\", \"burger\", \"burger\", \"burger\", \"burnt\", \"butter\", \"cafe\", \"cake\", \"call\", \"call\", \"calm\", \"caramel\", \"care\", \"cascade\", \"chai\", \"charge\", \"charged\", \"cheese\", \"cheese\", \"cheesecake\", \"chicken\", \"chicken\", \"chilli\", \"chilly\", \"choco\", \"chocolate\", \"classic\", \"cockroach\", \"cocktail\", \"coffee\", \"coffee\", \"combo\", \"combo\", \"condition\", \"cook\", \"cooked\", \"cooked\", \"cooky\", \"cool\", \"corn\", \"course\", \"course\", \"course\", \"cozy\", \"cream\", \"croissant\", \"cup\", \"cupcake\", \"curry\", \"curry\", \"curry\", \"customer\", \"customer\", \"decor\", \"delay\", \"deliver\", \"delivered\", \"delivered\", \"delivering\", \"delivery\", \"delivery\", \"delivery\", \"deserts\", \"dessert\", \"dessert\", \"dessert\", \"didnt\", \"didnt\", \"didnt\", \"didnt\", \"dinner\", \"dinner\", \"dinner\", \"disgusting\", \"dish\", \"dish\", \"dish\", \"dish\", \"dlf\", \"domino\", \"dont\", \"dont\", \"dont\", \"dont\", \"drink\", \"drink\", \"drink\", \"dum\", \"enjoy\", \"enjoyed\", \"enjoyed\", \"enjoyed\", \"entry\", \"even\", \"even\", \"even\", \"even\", \"ever\", \"ever\", \"ever\", \"ever\", \"ever\", \"excellent\", \"excellent\", \"excellent\", \"excellent\", \"expensive\", \"expensive\", \"expensive\", \"experience\", \"experience\", \"experience\", \"experience\", \"family\", \"family\", \"folk\", \"food\", \"food\", \"food\", \"food\", \"fresh\", \"fresh\", \"fresh\", \"fresh\", \"fresh\", \"fried\", \"friend\", \"friend\", \"friendly\", \"friendly\", \"fruit\", \"garlic\", \"get\", \"get\", \"get\", \"get\", \"get\", \"go\", \"go\", \"go\", \"go\", \"go\", \"gold\", \"gold\", \"good\", \"good\", \"good\", \"got\", \"got\", \"got\", \"got\", \"got\", \"govind\", \"gravy\", \"great\", \"great\", \"great\", \"great\", \"guest\", \"gulab\", \"half\", \"half\", \"hang\", \"hangout\", \"hazelnut\", \"horrible\", \"hostess\", \"hot\", \"hot\", \"hot\", \"hot\", \"hour\", \"hour\", \"hour\", \"hyatt\", \"hyatt\", \"hyderabad\", \"hyderabad\", \"hyderabad\", \"hyderabad\", \"ice\", \"indian\", \"indian\", \"informed\", \"interior\", \"item\", \"item\", \"item\", \"item\", \"item\", \"juicy\", \"kfc\", \"know\", \"know\", \"know\", \"know\", \"labonel\", \"late\", \"late\", \"le\", \"le\", \"le\", \"le\", \"lemonade\", \"like\", \"like\", \"like\", \"like\", \"like\", \"lime\", \"literally\", \"live\", \"live\", \"located\", \"location\", \"location\", \"love\", \"love\", \"love\", \"loved\", \"loved\", \"loved\", \"lunch\", \"lunch\", \"lunch\", \"maggi\", \"maggie\", \"main\", \"main\", \"main\", \"management\", \"management\", \"manager\", \"manager\", \"manchurian\", \"mandi\", \"mango\", \"masala\", \"melt\", \"memorable\", \"milkshake\", \"momo\", \"money\", \"money\", \"money\", \"mr\", \"mr\", \"murg\", \"murg\", \"music\", \"must\", \"must\", \"must\", \"mutton\", \"mutton\", \"naan\", \"never\", \"never\", \"never\", \"never\", \"nice\", \"nice\", \"nice\", \"night\", \"night\", \"night\", \"night\", \"noodle\", \"noodle\", \"north\", \"oily\", \"one\", \"one\", \"one\", \"one\", \"one\", \"onion\", \"order\", \"order\", \"order\", \"ordered\", \"ordered\", \"ordered\", \"outdoor\", \"outlet\", \"outlet\", \"outlet\", \"outlet\", \"outlet\", \"pancake\", \"paneer\", \"pao\", \"paratha\", \"parathas\", \"pastry\", \"pathetic\", \"pathetic\", \"piece\", \"piece\", \"piece\", \"place\", \"place\", \"place\", \"place\", \"please\", \"please\", \"pot\", \"product\", \"pulao\", \"pulav\", \"quality\", \"quality\", \"quality\", \"quality\", \"quantity\", \"quantity\", \"radisson\", \"raza\", \"really\", \"really\", \"really\", \"really\", \"really\", \"received\", \"received\", \"red\", \"red\", \"refund\", \"restaurant\", \"restaurant\", \"restaurant\", \"restaurant\", \"rice\", \"rooftop\", \"roti\", \"rude\", \"salim\", \"saturday\", \"sauce\", \"sauce\", \"seating\", \"selection\", \"served\", \"served\", \"served\", \"served\", \"service\", \"service\", \"service\", \"service\", \"shake\", \"signature\", \"sitting\", \"sizzlers\", \"smell\", \"smelling\", \"snack\", \"soft\", \"soft\", \"soup\", \"soup\", \"soup\", \"south\", \"spice\", \"spicy\", \"spoiled\", \"spoon\", \"spread\", \"spread\", \"staff\", \"staff\", \"stag\", \"starter\", \"starter\", \"starter\", \"starters\", \"starters\", \"stone\", \"suck\", \"table\", \"table\", \"table\", \"tandoori\", \"taste\", \"taste\", \"taste\", \"taste\", \"taste\", \"tasted\", \"tasted\", \"tasted\", \"tasted\", \"tasty\", \"tasty\", \"tasty\", \"tasty\", \"team\", \"team\", \"thank\", \"thank\", \"thank\", \"thanks\", \"thanks\", \"tikka\", \"time\", \"time\", \"time\", \"time\", \"tried\", \"tried\", \"tried\", \"tried\", \"try\", \"try\", \"try\", \"try\", \"u\", \"u\", \"u\", \"u\", \"understand\", \"unprofessional\", \"use\", \"use\", \"veg\", \"veg\", \"veg\", \"velvet\", \"view\", \"visit\", \"visit\", \"visit\", \"waffle\", \"waste\", \"weekday\", \"weekend\", \"well\", \"well\", \"well\", \"well\", \"well\", \"went\", \"went\", \"went\", \"went\", \"wide\", \"wide\", \"without\", \"without\", \"worst\", \"would\", \"would\", \"would\", \"would\", \"would\", \"wrap\", \"wrong\", \"zomato\", \"zomato\"]}, \"R\": 30, \"lambda.step\": 0.01, \"plot.opts\": {\"xlab\": \"PC1\", \"ylab\": \"PC2\"}, \"topic.order\": [3, 5, 1, 2, 4]};\n",
       "\n",
       "function LDAvis_load_lib(url, callback){\n",
       "  var s = document.createElement('script');\n",
       "  s.src = url;\n",
       "  s.async = true;\n",
       "  s.onreadystatechange = s.onload = callback;\n",
       "  s.onerror = function(){console.warn(\"failed to load library \" + url);};\n",
       "  document.getElementsByTagName(\"head\")[0].appendChild(s);\n",
       "}\n",
       "\n",
       "if(typeof(LDAvis) !== \"undefined\"){\n",
       "   // already loaded: just create the visualization\n",
       "   !function(LDAvis){\n",
       "       new LDAvis(\"#\" + \"ldavis_el8256257110108216080938565\", ldavis_el8256257110108216080938565_data);\n",
       "   }(LDAvis);\n",
       "}else if(typeof define === \"function\" && define.amd){\n",
       "   // require.js is available: use it to load d3/LDAvis\n",
       "   require.config({paths: {d3: \"https://d3js.org/d3.v5\"}});\n",
       "   require([\"d3\"], function(d3){\n",
       "      window.d3 = d3;\n",
       "      LDAvis_load_lib(\"https://cdn.jsdelivr.net/gh/bmabey/pyLDAvis@3.4.0/pyLDAvis/js/ldavis.v3.0.0.js\", function(){\n",
       "        new LDAvis(\"#\" + \"ldavis_el8256257110108216080938565\", ldavis_el8256257110108216080938565_data);\n",
       "      });\n",
       "    });\n",
       "}else{\n",
       "    // require.js not available: dynamically load d3 & LDAvis\n",
       "    LDAvis_load_lib(\"https://d3js.org/d3.v5.js\", function(){\n",
       "         LDAvis_load_lib(\"https://cdn.jsdelivr.net/gh/bmabey/pyLDAvis@3.4.0/pyLDAvis/js/ldavis.v3.0.0.js\", function(){\n",
       "                 new LDAvis(\"#\" + \"ldavis_el8256257110108216080938565\", ldavis_el8256257110108216080938565_data);\n",
       "            })\n",
       "         });\n",
       "}\n",
       "</script>"
      ],
      "text/plain": [
       "<IPython.core.display.HTML object>"
      ]
     },
     "execution_count": 12,
     "metadata": {},
     "output_type": "execute_result"
    }
   ],
   "source": [
    "lda_vis = gensimvis.prepare(best_model, corpus, dictionary)\n",
    "pyLDAvis.display(lda_vis)"
   ]
  },
  {
   "cell_type": "markdown",
   "metadata": {},
   "source": [
    "<font color='#BFD72F' size=7>3. LSA</font> <a class=\"anchor\" id=\"p3\"></a>\n",
    "\n",
    "[Back to TOC](#toc)\n",
    "\n",
    "As we did previously for the LDA model, we will test different numbers of topics for the LSA model. By varying the number of topics, we aim to identify the configuration that best captures the themes in the data. While coherence is a commonly used and effective metric for models like LDA due to their probabilistic nature, it can also be used with LSA. However, the results may be less informative in LSA due to the model's mathematical nature."
   ]
  },
  {
   "cell_type": "code",
   "execution_count": 13,
   "metadata": {},
   "outputs": [
    {
     "name": "stdout",
     "output_type": "stream",
     "text": [
      "Testing num_topics=3...\n"
     ]
    },
    {
     "name": "stderr",
     "output_type": "stream",
     "text": [
      "c:\\Users\\vasco\\Anaconda2023\\envs\\text-mining1\\lib\\site-packages\\gensim\\models\\lsimodel.py:963: DeprecationWarning: Please use `csc_matvecs` from the `scipy.sparse` namespace, the `scipy.sparse.sparsetools` namespace is deprecated.\n",
      "  sparsetools.csc_matvecs(\n"
     ]
    },
    {
     "name": "stdout",
     "output_type": "stream",
     "text": [
      "Coherence Score: 0.4932\n",
      "Testing num_topics=5...\n"
     ]
    },
    {
     "name": "stderr",
     "output_type": "stream",
     "text": [
      "c:\\Users\\vasco\\Anaconda2023\\envs\\text-mining1\\lib\\site-packages\\gensim\\models\\lsimodel.py:963: DeprecationWarning: Please use `csc_matvecs` from the `scipy.sparse` namespace, the `scipy.sparse.sparsetools` namespace is deprecated.\n",
      "  sparsetools.csc_matvecs(\n"
     ]
    },
    {
     "name": "stdout",
     "output_type": "stream",
     "text": [
      "Coherence Score: 0.5072\n",
      "Testing num_topics=10...\n"
     ]
    },
    {
     "name": "stderr",
     "output_type": "stream",
     "text": [
      "c:\\Users\\vasco\\Anaconda2023\\envs\\text-mining1\\lib\\site-packages\\gensim\\models\\lsimodel.py:963: DeprecationWarning: Please use `csc_matvecs` from the `scipy.sparse` namespace, the `scipy.sparse.sparsetools` namespace is deprecated.\n",
      "  sparsetools.csc_matvecs(\n"
     ]
    },
    {
     "name": "stdout",
     "output_type": "stream",
     "text": [
      "Coherence Score: 0.5030\n",
      "Testing num_topics=15...\n"
     ]
    },
    {
     "name": "stderr",
     "output_type": "stream",
     "text": [
      "c:\\Users\\vasco\\Anaconda2023\\envs\\text-mining1\\lib\\site-packages\\gensim\\models\\lsimodel.py:963: DeprecationWarning: Please use `csc_matvecs` from the `scipy.sparse` namespace, the `scipy.sparse.sparsetools` namespace is deprecated.\n",
      "  sparsetools.csc_matvecs(\n"
     ]
    },
    {
     "name": "stdout",
     "output_type": "stream",
     "text": [
      "Coherence Score: 0.4807\n",
      "Coherence did not improve for two consecutive iterations. Stopping...\n",
      "\n",
      "Best Model Found:\n",
      "Number of Topics: 5\n",
      "Best Coherence Score: 0.5072\n",
      "\n",
      "Results Summary:\n",
      "   num_topics  coherence\n",
      "0           3   0.493243\n",
      "1           5   0.507231\n",
      "2          10   0.503022\n",
      "3          15   0.480742\n"
     ]
    }
   ],
   "source": [
    "# Parameters to test\n",
    "num_topics_range = [3, 5, 10, 15]  \n",
    "\n",
    "# Variables to store the best results\n",
    "best_coherence = 0\n",
    "best_model_lsa = None\n",
    "best_num_topics = 0\n",
    "\n",
    "# List to store coherence scores\n",
    "coherence_scores = []\n",
    "\n",
    "# Counter for consecutive non-improvements\n",
    "no_improvement_count = 0\n",
    "\n",
    "# Loop to test different values of num_topics\n",
    "for num_topics in num_topics_range:\n",
    "    print(f\"Testing num_topics={num_topics}...\")\n",
    "    \n",
    "    # Train the LSA model (LsiModel)\n",
    "    lsa_model = LsiModel(corpus=corpus, num_topics=num_topics, id2word=dictionary)\n",
    "    \n",
    "    # Calculate the coherence score\n",
    "    coherence_model = CoherenceModel(model=lsa_model, texts=data['clean_reviews_tokens'], dictionary=dictionary, coherence='c_v')\n",
    "    coherence_score = coherence_model.get_coherence()\n",
    "    \n",
    "    # Store the result\n",
    "    coherence_scores.append((num_topics, coherence_score))\n",
    "    print(f\"Coherence Score: {coherence_score:.4f}\")\n",
    "    \n",
    "    # Check if the coherence score improved\n",
    "    if coherence_score > best_coherence:\n",
    "        best_coherence = coherence_score\n",
    "        best_model_lsa = lsa_model\n",
    "        best_num_topics = num_topics\n",
    "        no_improvement_count = 0  # Reset counter\n",
    "    else:\n",
    "        no_improvement_count += 1\n",
    "    \n",
    "    # Stop if no improvement for two consecutive iterations\n",
    "    if no_improvement_count >= 2:\n",
    "        print(\"Coherence did not improve for two consecutive iterations. Stopping...\")\n",
    "        break\n",
    "\n",
    "# Final results\n",
    "print(\"\\nBest Model Found:\")\n",
    "print(f\"Number of Topics: {best_num_topics}\")\n",
    "print(f\"Best Coherence Score: {best_coherence:.4f}\")\n",
    "\n",
    "# Save results in a DataFrame\n",
    "results_df = pd.DataFrame(coherence_scores, columns=['num_topics', 'coherence'])\n",
    "print(\"\\nResults Summary:\")\n",
    "print(results_df)"
   ]
  },
  {
   "cell_type": "code",
   "execution_count": 14,
   "metadata": {},
   "outputs": [],
   "source": [
    "best_model_lsa.save('Models/best_LSA_model.gensim')"
   ]
  },
  {
   "cell_type": "code",
   "execution_count": 15,
   "metadata": {},
   "outputs": [
    {
     "data": {
      "text/plain": [
       "(5, 13342)"
      ]
     },
     "execution_count": 15,
     "metadata": {},
     "output_type": "execute_result"
    }
   ],
   "source": [
    "best_model_lsa.get_topics().shape"
   ]
  },
  {
   "cell_type": "code",
   "execution_count": 16,
   "metadata": {},
   "outputs": [
    {
     "name": "stdout",
     "output_type": "stream",
     "text": [
      "(0, '0.492*\"good\" + 0.454*\"food\" + 0.423*\"place\" + 0.209*\"service\" + 0.148*\"chicken\"')\n",
      "(1, '-0.772*\"good\" + 0.514*\"place\" + 0.206*\"food\" + 0.118*\"great\" + 0.086*\"visit\"')\n",
      "(2, '0.624*\"place\" + -0.618*\"food\" + 0.279*\"good\" + -0.147*\"chicken\" + -0.134*\"ordered\"')\n",
      "(3, '-0.629*\"chicken\" + 0.390*\"food\" + -0.301*\"ordered\" + -0.254*\"biryani\" + -0.205*\"taste\"')\n",
      "(4, '-0.705*\"service\" + 0.408*\"food\" + -0.261*\"great\" + -0.218*\"-\" + 0.207*\"place\"')\n"
     ]
    }
   ],
   "source": [
    "topics = best_model_lsa.print_topics(num_words=5)\n",
    "for topic in topics:\n",
    "    print(topic)"
   ]
  },
  {
   "cell_type": "markdown",
   "metadata": {},
   "source": [
    "Although both models address similar aspects of food and service, LDA presents a greater diversity of topics, including more negative and specific criticisms about the environment and food. LSA struggled to differentiate the topics and did not capture them as effectively as LDA."
   ]
  },
  {
   "cell_type": "markdown",
   "metadata": {},
   "source": [
    "<font color='#BFD72F' size=7>4. BERTOPIC</font> <a class=\"anchor\" id=\"p4\"></a>\n",
    "\n",
    "[Back to TOC](#toc)"
   ]
  },
  {
   "cell_type": "code",
   "execution_count": 8,
   "metadata": {},
   "outputs": [
    {
     "name": "stdout",
     "output_type": "stream",
     "text": [
      "22\n"
     ]
    }
   ],
   "source": [
    "print(data['preproc_reviews'].isna().sum())"
   ]
  },
  {
   "cell_type": "code",
   "execution_count": 12,
   "metadata": {},
   "outputs": [],
   "source": [
    "docs = data[\"preproc_reviews\"].fillna(\"\").reset_index(drop=True)"
   ]
  },
  {
   "cell_type": "code",
   "execution_count": 13,
   "metadata": {},
   "outputs": [],
   "source": [
    "topic_model = BERTopic(nr_topics=20)\n",
    "topics, probs = topic_model.fit_transform(docs)"
   ]
  },
  {
   "cell_type": "code",
   "execution_count": 14,
   "metadata": {},
   "outputs": [],
   "source": [
    "topics_df = pd.DataFrame({'topic': topics, 'document': docs})"
   ]
  },
  {
   "cell_type": "code",
   "execution_count": 15,
   "metadata": {},
   "outputs": [
    {
     "name": "stderr",
     "output_type": "stream",
     "text": [
      "2024-12-17 20:03:36,466 - BERTopic - WARNING: When you use `pickle` to save/load a BERTopic model,please make sure that the environments in which you saveand load the model are **exactly** the same. The version of BERTopic,its dependencies, and python need to remain the same.\n",
      "c:\\Users\\vasco\\Anaconda2023\\envs\\text-mining1\\lib\\site-packages\\scipy\\sparse\\_index.py:146: SparseEfficiencyWarning: Changing the sparsity structure of a csr_matrix is expensive. lil_matrix is more efficient.\n",
      "  self._set_arrayXarray(i, j, x)\n"
     ]
    }
   ],
   "source": [
    "# Save the model\n",
    "topic_model.save(\"Models/bertopic_model\")"
   ]
  },
  {
   "cell_type": "code",
   "execution_count": 43,
   "metadata": {},
   "outputs": [],
   "source": [
    "pd.reset_option(\"display.max_colwidth\")"
   ]
  },
  {
   "cell_type": "code",
   "execution_count": 44,
   "metadata": {},
   "outputs": [
    {
     "data": {
      "text/html": [
       "<div>\n",
       "<style scoped>\n",
       "    .dataframe tbody tr th:only-of-type {\n",
       "        vertical-align: middle;\n",
       "    }\n",
       "\n",
       "    .dataframe tbody tr th {\n",
       "        vertical-align: top;\n",
       "    }\n",
       "\n",
       "    .dataframe thead th {\n",
       "        text-align: right;\n",
       "    }\n",
       "</style>\n",
       "<table border=\"1\" class=\"dataframe\">\n",
       "  <thead>\n",
       "    <tr style=\"text-align: right;\">\n",
       "      <th></th>\n",
       "      <th>Topic</th>\n",
       "      <th>Count</th>\n",
       "      <th>Name</th>\n",
       "      <th>Representation</th>\n",
       "      <th>Representative_Docs</th>\n",
       "    </tr>\n",
       "  </thead>\n",
       "  <tbody>\n",
       "    <tr>\n",
       "      <th>0</th>\n",
       "      <td>-1</td>\n",
       "      <td>3994</td>\n",
       "      <td>-1_food_good_place_service</td>\n",
       "      <td>[food, good, place, service, ambience, great, ...</td>\n",
       "      <td>[loved food ambience good desert could somewha...</td>\n",
       "    </tr>\n",
       "    <tr>\n",
       "      <th>1</th>\n",
       "      <td>0</td>\n",
       "      <td>2161</td>\n",
       "      <td>0_place_good_food_ambience</td>\n",
       "      <td>[place, good, food, ambience, best, service, g...</td>\n",
       "      <td>[ambience great perfectly lit separate section...</td>\n",
       "    </tr>\n",
       "    <tr>\n",
       "      <th>2</th>\n",
       "      <td>1</td>\n",
       "      <td>1469</td>\n",
       "      <td>1_biryani_chicken_ordered_taste</td>\n",
       "      <td>[biryani, chicken, ordered, taste, worst, food...</td>\n",
       "      <td>[biryani good, good service excellent food chi...</td>\n",
       "    </tr>\n",
       "    <tr>\n",
       "      <th>3</th>\n",
       "      <td>2</td>\n",
       "      <td>515</td>\n",
       "      <td>2_good_nice_excellent_awesome</td>\n",
       "      <td>[good, nice, excellent, awesome, job, thank, a...</td>\n",
       "      <td>[good, good, v good]</td>\n",
       "    </tr>\n",
       "    <tr>\n",
       "      <th>4</th>\n",
       "      <td>3</td>\n",
       "      <td>285</td>\n",
       "      <td>3_delivery_delivered_time_fast</td>\n",
       "      <td>[delivery, delivered, time, fast, packing, boy...</td>\n",
       "      <td>[good delivery, delivery, good delivery time d...</td>\n",
       "    </tr>\n",
       "    <tr>\n",
       "      <th>5</th>\n",
       "      <td>4</td>\n",
       "      <td>204</td>\n",
       "      <td>4_zomato_order_gold_restaurant</td>\n",
       "      <td>[zomato, order, gold, restaurant, received, de...</td>\n",
       "      <td>[delivery poor customer support zomato unable ...</td>\n",
       "    </tr>\n",
       "    <tr>\n",
       "      <th>6</th>\n",
       "      <td>5</td>\n",
       "      <td>163</td>\n",
       "      <td>5_taste_tasty_food_good</td>\n",
       "      <td>[taste, tasty, food, good, awesome, delicious,...</td>\n",
       "      <td>[good taste, taste good, good food tasty]</td>\n",
       "    </tr>\n",
       "    <tr>\n",
       "      <th>7</th>\n",
       "      <td>6</td>\n",
       "      <td>59</td>\n",
       "      <td>6_spicy_cold_food_hot</td>\n",
       "      <td>[spicy, cold, food, hot, tasty, late, delivere...</td>\n",
       "      <td>[spicy, spicy food, food spicy]</td>\n",
       "    </tr>\n",
       "    <tr>\n",
       "      <th>8</th>\n",
       "      <td>7</td>\n",
       "      <td>56</td>\n",
       "      <td>7_ok_nom_frsh_yup</td>\n",
       "      <td>[ok, nom, frsh, yup, wowww, weast, hmmm, hhsjo...</td>\n",
       "      <td>[ok ok, ok, ok]</td>\n",
       "    </tr>\n",
       "    <tr>\n",
       "      <th>9</th>\n",
       "      <td>8</td>\n",
       "      <td>55</td>\n",
       "      <td>8_service_good_excellent_mohammed</td>\n",
       "      <td>[service, good, excellent, mohammed, assum, li...</td>\n",
       "      <td>[good service, good service, good service]</td>\n",
       "    </tr>\n",
       "    <tr>\n",
       "      <th>10</th>\n",
       "      <td>9</td>\n",
       "      <td>49</td>\n",
       "      <td>9_quantity_le_low_less</td>\n",
       "      <td>[quantity, le, low, less, reduced, piece, rate...</td>\n",
       "      <td>[le quantity, quantity le, le quantity]</td>\n",
       "    </tr>\n",
       "    <tr>\n",
       "      <th>11</th>\n",
       "      <td>10</td>\n",
       "      <td>36</td>\n",
       "      <td>10_super_superb_supersupersupersupersupersuper...</td>\n",
       "      <td>[super, superb, supersupersupersupersupersuper...</td>\n",
       "      <td>[super, super, super]</td>\n",
       "    </tr>\n",
       "    <tr>\n",
       "      <th>12</th>\n",
       "      <td>11</td>\n",
       "      <td>34</td>\n",
       "      <td>11_bad_test_worst_horrible</td>\n",
       "      <td>[bad, test, worst, horrible, execelent, cheate...</td>\n",
       "      <td>[bad, bad, bad]</td>\n",
       "    </tr>\n",
       "    <tr>\n",
       "      <th>13</th>\n",
       "      <td>12</td>\n",
       "      <td>30</td>\n",
       "      <td>12_gud_gd_nic_6y</td>\n",
       "      <td>[gud, gd, nic, 6y, bdhd, gggg, gdgd, yfjgz, gg...</td>\n",
       "      <td>[gud, gud, gud]</td>\n",
       "    </tr>\n",
       "    <tr>\n",
       "      <th>14</th>\n",
       "      <td>13</td>\n",
       "      <td>22</td>\n",
       "      <td>13_time_timing_right_vey</td>\n",
       "      <td>[time, timing, right, vey, ontime, deli, perfe...</td>\n",
       "      <td>[time, time, time]</td>\n",
       "    </tr>\n",
       "    <tr>\n",
       "      <th>15</th>\n",
       "      <td>14</td>\n",
       "      <td>15</td>\n",
       "      <td>14_money_worth_price_overpriced</td>\n",
       "      <td>[money, worth, price, overpriced, valued, high...</td>\n",
       "      <td>[bad worth price, worth money spent, worth money]</td>\n",
       "    </tr>\n",
       "    <tr>\n",
       "      <th>16</th>\n",
       "      <td>15</td>\n",
       "      <td>15</td>\n",
       "      <td>15_quality_poor_bad_low</td>\n",
       "      <td>[quality, poor, bad, low, stored, didnt, test,...</td>\n",
       "      <td>[poor quality, quality, bad quality]</td>\n",
       "    </tr>\n",
       "    <tr>\n",
       "      <th>17</th>\n",
       "      <td>16</td>\n",
       "      <td>13</td>\n",
       "      <td>16_oily_oil_full_happily</td>\n",
       "      <td>[oily, oil, full, happily, coated, poori, liki...</td>\n",
       "      <td>[oily, oily, oily]</td>\n",
       "    </tr>\n",
       "    <tr>\n",
       "      <th>18</th>\n",
       "      <td>17</td>\n",
       "      <td>13</td>\n",
       "      <td>17_chutney_spilled_requested_taste</td>\n",
       "      <td>[chutney, spilled, requested, taste, imli, myn...</td>\n",
       "      <td>[chutney pickle got spilled, chutney wasnt goo...</td>\n",
       "    </tr>\n",
       "    <tr>\n",
       "      <th>19</th>\n",
       "      <td>18</td>\n",
       "      <td>11</td>\n",
       "      <td>18_rotis_roti_bad_sour</td>\n",
       "      <td>[rotis, roti, bad, sour, vary, rotti, delivere...</td>\n",
       "      <td>[rotis delivered satisfied ordered, ordered bu...</td>\n",
       "    </tr>\n",
       "  </tbody>\n",
       "</table>\n",
       "</div>"
      ],
      "text/plain": [
       "    Topic  Count                                               Name  \\\n",
       "0      -1   3994                         -1_food_good_place_service   \n",
       "1       0   2161                         0_place_good_food_ambience   \n",
       "2       1   1469                    1_biryani_chicken_ordered_taste   \n",
       "3       2    515                      2_good_nice_excellent_awesome   \n",
       "4       3    285                     3_delivery_delivered_time_fast   \n",
       "5       4    204                     4_zomato_order_gold_restaurant   \n",
       "6       5    163                            5_taste_tasty_food_good   \n",
       "7       6     59                              6_spicy_cold_food_hot   \n",
       "8       7     56                                  7_ok_nom_frsh_yup   \n",
       "9       8     55                  8_service_good_excellent_mohammed   \n",
       "10      9     49                             9_quantity_le_low_less   \n",
       "11     10     36  10_super_superb_supersupersupersupersupersuper...   \n",
       "12     11     34                         11_bad_test_worst_horrible   \n",
       "13     12     30                                   12_gud_gd_nic_6y   \n",
       "14     13     22                           13_time_timing_right_vey   \n",
       "15     14     15                    14_money_worth_price_overpriced   \n",
       "16     15     15                            15_quality_poor_bad_low   \n",
       "17     16     13                           16_oily_oil_full_happily   \n",
       "18     17     13                 17_chutney_spilled_requested_taste   \n",
       "19     18     11                             18_rotis_roti_bad_sour   \n",
       "\n",
       "                                       Representation  \\\n",
       "0   [food, good, place, service, ambience, great, ...   \n",
       "1   [place, good, food, ambience, best, service, g...   \n",
       "2   [biryani, chicken, ordered, taste, worst, food...   \n",
       "3   [good, nice, excellent, awesome, job, thank, a...   \n",
       "4   [delivery, delivered, time, fast, packing, boy...   \n",
       "5   [zomato, order, gold, restaurant, received, de...   \n",
       "6   [taste, tasty, food, good, awesome, delicious,...   \n",
       "7   [spicy, cold, food, hot, tasty, late, delivere...   \n",
       "8   [ok, nom, frsh, yup, wowww, weast, hmmm, hhsjo...   \n",
       "9   [service, good, excellent, mohammed, assum, li...   \n",
       "10  [quantity, le, low, less, reduced, piece, rate...   \n",
       "11  [super, superb, supersupersupersupersupersuper...   \n",
       "12  [bad, test, worst, horrible, execelent, cheate...   \n",
       "13  [gud, gd, nic, 6y, bdhd, gggg, gdgd, yfjgz, gg...   \n",
       "14  [time, timing, right, vey, ontime, deli, perfe...   \n",
       "15  [money, worth, price, overpriced, valued, high...   \n",
       "16  [quality, poor, bad, low, stored, didnt, test,...   \n",
       "17  [oily, oil, full, happily, coated, poori, liki...   \n",
       "18  [chutney, spilled, requested, taste, imli, myn...   \n",
       "19  [rotis, roti, bad, sour, vary, rotti, delivere...   \n",
       "\n",
       "                                  Representative_Docs  \n",
       "0   [loved food ambience good desert could somewha...  \n",
       "1   [ambience great perfectly lit separate section...  \n",
       "2   [biryani good, good service excellent food chi...  \n",
       "3                                [good, good, v good]  \n",
       "4   [good delivery, delivery, good delivery time d...  \n",
       "5   [delivery poor customer support zomato unable ...  \n",
       "6           [good taste, taste good, good food tasty]  \n",
       "7                     [spicy, spicy food, food spicy]  \n",
       "8                                     [ok ok, ok, ok]  \n",
       "9          [good service, good service, good service]  \n",
       "10            [le quantity, quantity le, le quantity]  \n",
       "11                              [super, super, super]  \n",
       "12                                    [bad, bad, bad]  \n",
       "13                                    [gud, gud, gud]  \n",
       "14                                 [time, time, time]  \n",
       "15  [bad worth price, worth money spent, worth money]  \n",
       "16               [poor quality, quality, bad quality]  \n",
       "17                                 [oily, oily, oily]  \n",
       "18  [chutney pickle got spilled, chutney wasnt goo...  \n",
       "19  [rotis delivered satisfied ordered, ordered bu...  "
      ]
     },
     "execution_count": 44,
     "metadata": {},
     "output_type": "execute_result"
    }
   ],
   "source": [
    "topic_model.get_topic_info()"
   ]
  },
  {
   "cell_type": "markdown",
   "metadata": {},
   "source": [
    "Due to issues with rendering interactive Plotly visualizations directly in VSCode's Jupyter environment, we will need to use a workaround to display the BERTopic visualizations. The error encountered (Error loading renderer 'jupyter-notebook-renderer') indicates a problem with the renderer configuration in VSCode, potentially related to the Jupyter or Jupyter Renderers extensions.\n",
    "\n",
    "As a solution, we will display the visualizations using an external browser by specifying the browser renderer. This allows us to view the interactive plots outside of VSCode."
   ]
  },
  {
   "cell_type": "code",
   "execution_count": 34,
   "metadata": {},
   "outputs": [],
   "source": [
    "topic_model = BERTopic.load(\"Models/bertopic_model\")"
   ]
  },
  {
   "cell_type": "code",
   "execution_count": 35,
   "metadata": {},
   "outputs": [],
   "source": [
    "fig = topic_model.visualize_topics()\n",
    "fig.show(renderer=\"browser\")"
   ]
  },
  {
   "cell_type": "markdown",
   "metadata": {},
   "source": [
    "## Output:\n",
    "\n",
    "\n",
    "![](https://i.ibb.co/0t98fYB/newplot.png)"
   ]
  },
  {
   "cell_type": "code",
   "execution_count": 37,
   "metadata": {},
   "outputs": [
    {
     "data": {
      "text/html": [
       "<div>\n",
       "<style scoped>\n",
       "    .dataframe tbody tr th:only-of-type {\n",
       "        vertical-align: middle;\n",
       "    }\n",
       "\n",
       "    .dataframe tbody tr th {\n",
       "        vertical-align: top;\n",
       "    }\n",
       "\n",
       "    .dataframe thead th {\n",
       "        text-align: right;\n",
       "    }\n",
       "</style>\n",
       "<table border=\"1\" class=\"dataframe\">\n",
       "  <thead>\n",
       "    <tr style=\"text-align: right;\">\n",
       "      <th></th>\n",
       "      <th>topic</th>\n",
       "      <th>document</th>\n",
       "    </tr>\n",
       "  </thead>\n",
       "  <tbody>\n",
       "    <tr>\n",
       "      <th>0</th>\n",
       "      <td>-1</td>\n",
       "      <td>ambience good food quite good saturday lunch c...</td>\n",
       "    </tr>\n",
       "    <tr>\n",
       "      <th>1</th>\n",
       "      <td>-1</td>\n",
       "      <td>ambience good pleasant evening service prompt ...</td>\n",
       "    </tr>\n",
       "    <tr>\n",
       "      <th>2</th>\n",
       "      <td>0</td>\n",
       "      <td>must try great food great ambience thnx servic...</td>\n",
       "    </tr>\n",
       "    <tr>\n",
       "      <th>3</th>\n",
       "      <td>-1</td>\n",
       "      <td>soumen da arun great guy behavior sincerety go...</td>\n",
       "    </tr>\n",
       "    <tr>\n",
       "      <th>4</th>\n",
       "      <td>1</td>\n",
       "      <td>food ordered kodi drumstick basket mutton biry...</td>\n",
       "    </tr>\n",
       "    <tr>\n",
       "      <th>...</th>\n",
       "      <td>...</td>\n",
       "      <td>...</td>\n",
       "    </tr>\n",
       "    <tr>\n",
       "      <th>9194</th>\n",
       "      <td>-1</td>\n",
       "      <td>visited restaurant friend immediately blown aw...</td>\n",
       "    </tr>\n",
       "    <tr>\n",
       "      <th>9195</th>\n",
       "      <td>0</td>\n",
       "      <td>im going cut chase food excellent must say hon...</td>\n",
       "    </tr>\n",
       "    <tr>\n",
       "      <th>9196</th>\n",
       "      <td>0</td>\n",
       "      <td>place never disappointed u food courteous staf...</td>\n",
       "    </tr>\n",
       "    <tr>\n",
       "      <th>9197</th>\n",
       "      <td>-1</td>\n",
       "      <td>personally love prefer chinese food couple tim...</td>\n",
       "    </tr>\n",
       "    <tr>\n",
       "      <th>9198</th>\n",
       "      <td>0</td>\n",
       "      <td>checked try delicious chinese food seen non-ve...</td>\n",
       "    </tr>\n",
       "  </tbody>\n",
       "</table>\n",
       "<p>9199 rows × 2 columns</p>\n",
       "</div>"
      ],
      "text/plain": [
       "      topic                                           document\n",
       "0        -1  ambience good food quite good saturday lunch c...\n",
       "1        -1  ambience good pleasant evening service prompt ...\n",
       "2         0  must try great food great ambience thnx servic...\n",
       "3        -1  soumen da arun great guy behavior sincerety go...\n",
       "4         1  food ordered kodi drumstick basket mutton biry...\n",
       "...     ...                                                ...\n",
       "9194     -1  visited restaurant friend immediately blown aw...\n",
       "9195      0  im going cut chase food excellent must say hon...\n",
       "9196      0  place never disappointed u food courteous staf...\n",
       "9197     -1  personally love prefer chinese food couple tim...\n",
       "9198      0  checked try delicious chinese food seen non-ve...\n",
       "\n",
       "[9199 rows x 2 columns]"
      ]
     },
     "execution_count": 37,
     "metadata": {},
     "output_type": "execute_result"
    }
   ],
   "source": [
    "topics_df"
   ]
  },
  {
   "cell_type": "markdown",
   "metadata": {},
   "source": [
    "The BERTopic model produced a range of topics that are fairly coherent, reflecting common themes found in the dataset, such as food quality, service, ambiance, and specific dishes. However, some topics might not seem entirely relevant or meaningful, and this could be due to issues in the preprocessing stage, such as incorrect tokenization or the inclusion of irrelevant terms."
   ]
  },
  {
   "cell_type": "markdown",
   "metadata": {},
   "source": [
    "<font color='#BFD72F' size=7>5. Conclusions</font> <a class=\"anchor\" id=\"p5\"></a>\n",
    "\n",
    "[Back to TOC](#toc)"
   ]
  },
  {
   "cell_type": "markdown",
   "metadata": {},
   "source": [
    "LDA (Latent Dirichlet Allocation) identified clear and diverse topics related to food quality, service, and specific dishes. By limiting the number of topics to five, we aimed to make the results easier to interpret. This approach allowed us to focus on the key themes without being overwhelmed by too many details. LDA was effective in distinguishing between different aspects of the reviews, such as specific complaints, praises, and references to the restaurant ambiance.\n",
    "\n",
    "LSA (Latent Semantic Analysis), on the other hand, was less successful at producing distinct and coherent topics. Although it captured some broad themes similar to those identified by LDA, the topics were more general and sometimes overlapped. \n",
    "\n",
    "BERTopic offered another valuable way to explore the data. BERTopic successfully highlighted themes related to food, service, and ambiance, similar to the other models. However, some of the identified topics lacked coherence or contained redundant patterns, likely due to the preprocessing stage or the inherent noise in the dataset.\n",
    "\n",
    "Due to limitations with VSCode and technical issues encountered during the analysis, we were unable to fully explore the potential of BERTopic. The visualization challenges and errors prevented us from leveraging all the capabilities BERTopic offers, such as interactive exploration and detailed topic refinement.\n",
    "Given these constraints, we found LDA (Latent Dirichlet Allocation) to be the more reliable and interpretable option. LDA provided clear, distinct, and meaningful topics that were easier to analyze and understand."
   ]
  }
 ],
 "metadata": {
  "kernelspec": {
   "display_name": "text-mining1",
   "language": "python",
   "name": "python3"
  },
  "language_info": {
   "codemirror_mode": {
    "name": "ipython",
    "version": 3
   },
   "file_extension": ".py",
   "mimetype": "text/x-python",
   "name": "python",
   "nbconvert_exporter": "python",
   "pygments_lexer": "ipython3",
   "version": "3.10.9"
  }
 },
 "nbformat": 4,
 "nbformat_minor": 2
}
